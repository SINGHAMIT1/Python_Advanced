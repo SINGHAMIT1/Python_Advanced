{
  "nbformat": 4,
  "nbformat_minor": 0,
  "metadata": {
    "colab": {
      "provenance": []
    },
    "kernelspec": {
      "name": "python3",
      "display_name": "Python 3"
    },
    "language_info": {
      "name": "python"
    }
  },
  "cells": [
    {
      "cell_type": "code",
      "execution_count": null,
      "metadata": {
        "colab": {
          "base_uri": "https://localhost:8080/",
          "height": 36
        },
        "id": "kEiHFhk_Am4T",
        "outputId": "469b24ea-28b9-4b82-9ca6-cfaf40351f55"
      },
      "outputs": [
        {
          "output_type": "execute_result",
          "data": {
            "text/plain": [
              "'012'"
            ],
            "application/vnd.google.colaboratory.intrinsic+json": {
              "type": "string"
            }
          },
          "metadata": {},
          "execution_count": 1
        }
      ],
      "source": [
        "#strings in PyThon are immutable\n",
        "selfish =\"01234567\"\n",
        "selfish[0:3:1]"
      ]
    },
    {
      "cell_type": "code",
      "source": [
        "selfish=\"123\""
      ],
      "metadata": {
        "id": "0cnBr2F5BN_Z"
      },
      "execution_count": null,
      "outputs": []
    },
    {
      "cell_type": "code",
      "source": [
        "print(selfish)"
      ],
      "metadata": {
        "colab": {
          "base_uri": "https://localhost:8080/"
        },
        "id": "QNXgmzumBSp4",
        "outputId": "ff5b7019-65cc-4f71-add0-9c158a294668"
      },
      "execution_count": null,
      "outputs": [
        {
          "output_type": "stream",
          "name": "stdout",
          "text": [
            "123\n"
          ]
        }
      ]
    },
    {
      "cell_type": "code",
      "source": [
        "print(len(selfish))"
      ],
      "metadata": {
        "colab": {
          "base_uri": "https://localhost:8080/"
        },
        "id": "KuIZt2MVBgLR",
        "outputId": "b32c614d-c4cd-4282-a6d4-e5a3276ce6c3"
      },
      "execution_count": null,
      "outputs": [
        {
          "output_type": "stream",
          "name": "stdout",
          "text": [
            "3\n"
          ]
        }
      ]
    },
    {
      "cell_type": "code",
      "source": [
        "print(selfish[0:len(selfish)])"
      ],
      "metadata": {
        "colab": {
          "base_uri": "https://localhost:8080/"
        },
        "id": "nIQB-3dpCQN7",
        "outputId": "a78426de-488b-45d2-c8d8-565bc4cd81a7"
      },
      "execution_count": null,
      "outputs": [
        {
          "output_type": "stream",
          "name": "stdout",
          "text": [
            "123\n"
          ]
        }
      ]
    },
    {
      "cell_type": "code",
      "source": [
        "#method basically has . before it\n",
        "#string method\n",
        "# we can overwrite strings but can't change them\n",
        "quote =\"to be or not to be\"\n",
        "print(quote.capitalize())\n",
        "print(quote.upper())\n",
        "print(quote.find(\"not\"))\n",
        "print(quote.replace(\"be\", \"me\"))\n",
        "print(quote)"
      ],
      "metadata": {
        "colab": {
          "base_uri": "https://localhost:8080/"
        },
        "id": "-14wZQ99CmDh",
        "outputId": "92158c1c-2c8d-4b47-bcd8-dc320458f4d6"
      },
      "execution_count": null,
      "outputs": [
        {
          "output_type": "stream",
          "name": "stdout",
          "text": [
            "To be or not to be\n",
            "TO BE OR NOT TO BE\n",
            "9\n",
            "to me or not to me\n",
            "to be or not to be\n"
          ]
        }
      ]
    },
    {
      "cell_type": "code",
      "source": [
        "name = \"Amit\"\n",
        "age= 26\n",
        "relationship_status = \"single\"\n",
        "\n",
        "relationship_status = 'it\\'s complicated'\n",
        "print(relationship_status)"
      ],
      "metadata": {
        "colab": {
          "base_uri": "https://localhost:8080/"
        },
        "id": "8swlZnFlDT7t",
        "outputId": "4daff0d2-055b-46b3-8add-cbf134f2a987"
      },
      "execution_count": null,
      "outputs": [
        {
          "output_type": "stream",
          "name": "stdout",
          "text": [
            "it's complicated\n"
          ]
        }
      ]
    },
    {
      "cell_type": "code",
      "source": [
        "birth_year = input(\"Which year did you born?\")\n",
        "age = 2023 - int(birth_year)\n",
        "print(f\"your age is : {age}\")"
      ],
      "metadata": {
        "colab": {
          "base_uri": "https://localhost:8080/"
        },
        "id": "dLJpUxORFxIz",
        "outputId": "e50426a4-067d-474f-82c1-ae36dcf96081"
      },
      "execution_count": null,
      "outputs": [
        {
          "output_type": "stream",
          "name": "stdout",
          "text": [
            "Which year did you born?1996\n",
            "your age is : 27\n"
          ]
        }
      ]
    },
    {
      "cell_type": "code",
      "source": [
        "#password checker\n",
        "user_name =input(\"Type your user name\")\n",
        "password = input(\"Type your password\")\n",
        "pw = \"*\" * len(password)\n",
        "# print(pw)\n",
        "print(f\"Hey {user_name}, Your password {pw} is {len(password)} letters long\")"
      ],
      "metadata": {
        "colab": {
          "base_uri": "https://localhost:8080/"
        },
        "id": "tgf924kfGzd0",
        "outputId": "1b62a804-e159-4875-8899-a8fe040d78e8"
      },
      "execution_count": null,
      "outputs": [
        {
          "output_type": "stream",
          "name": "stdout",
          "text": [
            "Type your user nameAmit Singha\n",
            "Type your passwordSuperSecret\n",
            "Hey Amit Singha, Your password *********** is 11 letters long\n"
          ]
        }
      ]
    },
    {
      "cell_type": "code",
      "source": [
        "# list are a form of array in python\n",
        "#a data structure\n",
        "amazon_cart =[\"Sunglasses\", \"Watch\", \"Toys\", \"Grapes\"]\n",
        "print(amazon_cart[0])\n",
        "print(amazon_cart[1])\n",
        "\n",
        "#list slicing\n",
        "print(amazon_cart[0:4:1])\n",
        "\n",
        "#lists are mutable but strings are immutable\n",
        "amazon_cart[0]=\"T-Shirt\"\n",
        "amazon_cart\n"
      ],
      "metadata": {
        "colab": {
          "base_uri": "https://localhost:8080/"
        },
        "id": "X0XfSZSXImZ3",
        "outputId": "32035fc6-42c7-41f3-f212-a1180562ec0e"
      },
      "execution_count": null,
      "outputs": [
        {
          "output_type": "stream",
          "name": "stdout",
          "text": [
            "Sunglasses\n",
            "Watch\n",
            "['Sunglasses', 'Watch', 'Toys', 'Grapes']\n"
          ]
        },
        {
          "output_type": "execute_result",
          "data": {
            "text/plain": [
              "['T-Shirt', 'Watch', 'Toys', 'Grapes']"
            ]
          },
          "metadata": {},
          "execution_count": 10
        }
      ]
    },
    {
      "cell_type": "code",
      "source": [
        "# print(amazon_cart)\n",
        "new_cart = amazon_cart[:] #copying elements\n",
        "new_cart[1] =\"Blazer\"\n",
        "print(new_cart)\n",
        "print(amazon_cart)"
      ],
      "metadata": {
        "colab": {
          "base_uri": "https://localhost:8080/"
        },
        "id": "1PZ2yFIPlPmb",
        "outputId": "81839ead-557f-4ec2-d922-c71525702ad1"
      },
      "execution_count": null,
      "outputs": [
        {
          "output_type": "stream",
          "name": "stdout",
          "text": [
            "['T-Shirt', 'Blazer', 'Toys', 'Grapes']\n",
            "['T-Shirt', 'Suits', 'Toys', 'Grapes']\n"
          ]
        }
      ]
    },
    {
      "cell_type": "code",
      "source": [
        "# matrix (array inside array)/ multidimentional list/array\n",
        "matrix =[[1,2,3],\n",
        "         [4,5,6],\n",
        "         [7,8,9]]\n",
        "print(matrix)\n",
        "print(matrix[1][1])\n",
        "print(matrix[2][2])\n",
        "\n"
      ],
      "metadata": {
        "colab": {
          "base_uri": "https://localhost:8080/"
        },
        "id": "K-Z3KTJhnDb-",
        "outputId": "f68004ef-a7f2-4bfd-c68f-05a3dee01a37"
      },
      "execution_count": null,
      "outputs": [
        {
          "output_type": "stream",
          "name": "stdout",
          "text": [
            "[[1, 2, 3], [4, 5, 6], [7, 8, 9]]\n",
            "5\n",
            "9\n"
          ]
        }
      ]
    },
    {
      "cell_type": "code",
      "source": [
        "basket =[1,2,3,4,5,6]\n",
        "basket.append(100)#list method\n",
        "new_list = basket[:] #copying\n",
        "basket.insert(3,100)\n",
        "basket.extend([200,300])\n",
        "print(new_list)\n",
        "print(basket)\n",
        "\n",
        "#removing\n",
        "basket.pop()\n",
        "basket.pop()\n",
        "basket.pop(0) #we give index what we want to remove\n",
        "basket.remove(2) # we give value what we want to remove \n",
        "print(basket)\n",
        "\n",
        "# remove, extend, append, insert works in place, means it doesn't \n",
        "#return a value, it just modify the list\n",
        "\n",
        "# but pop returns what value was removed\n",
        "new= basket.pop(1)\n",
        "print(new)\n",
        "basket.clear()\n",
        "print(basket)"
      ],
      "metadata": {
        "colab": {
          "base_uri": "https://localhost:8080/"
        },
        "id": "npD2eWSUoqe3",
        "outputId": "ee262402-c82f-4be4-b985-07cd9825b8d8"
      },
      "execution_count": null,
      "outputs": [
        {
          "output_type": "stream",
          "name": "stdout",
          "text": [
            "[1, 2, 3, 4, 5, 6, 100]\n",
            "[1, 2, 3, 100, 4, 5, 6, 100, 200, 300]\n",
            "[3, 100, 4, 5, 6, 100]\n",
            "100\n",
            "[]\n"
          ]
        }
      ]
    },
    {
      "cell_type": "code",
      "source": [
        "basket2 =[1,2,3,4,5]\n",
        "print(basket2.index(2))\n",
        "print(2 in basket2)\n",
        "\n",
        "#how many times an item occurs\n",
        "print(basket2.count(2))\n",
        "\n",
        "print(\"love\" in \"i love u\")"
      ],
      "metadata": {
        "colab": {
          "base_uri": "https://localhost:8080/"
        },
        "id": "8ZWVnD-Mp3UY",
        "outputId": "c6c87f4d-94a5-48f0-de59-1dcefebd378b"
      },
      "execution_count": null,
      "outputs": [
        {
          "output_type": "stream",
          "name": "stdout",
          "text": [
            "1\n",
            "True\n",
            "1\n",
            "True\n"
          ]
        }
      ]
    },
    {
      "cell_type": "code",
      "source": [
        "basket3=[\"a\",\"b\",\"c\",\"d\",\"e\",\"a\",\"1.0\"]\n",
        "# basket3.sort()\n",
        "\n",
        "\n",
        "\n",
        "print(sorted(basket3)) #function\n",
        "print(basket3)\n",
        "\n",
        "basket3.reverse()\n",
        "print(basket3)"
      ],
      "metadata": {
        "colab": {
          "base_uri": "https://localhost:8080/"
        },
        "id": "hTCMSJ-ytAJx",
        "outputId": "7a169ef9-a9b1-4876-ba49-336a0c08ab4c"
      },
      "execution_count": null,
      "outputs": [
        {
          "output_type": "stream",
          "name": "stdout",
          "text": [
            "['1.0', 'a', 'a', 'b', 'c', 'd', 'e']\n",
            "['a', 'b', 'c', 'd', 'e', 'a', '1.0']\n",
            "['1.0', 'a', 'e', 'd', 'c', 'b', 'a']\n"
          ]
        }
      ]
    },
    {
      "cell_type": "code",
      "source": [
        "print(len(basket3))"
      ],
      "metadata": {
        "colab": {
          "base_uri": "https://localhost:8080/"
        },
        "id": "JrZrSnGZuuZd",
        "outputId": "a815d6e9-4b6b-4755-b49f-4d15fd384d66"
      },
      "execution_count": null,
      "outputs": [
        {
          "output_type": "stream",
          "name": "stdout",
          "text": [
            "7\n"
          ]
        }
      ]
    },
    {
      "cell_type": "code",
      "source": [
        "print(basket3)\n",
        "basket3.sort()\n",
        "print(basket3)\n",
        "basket3.reverse()\n",
        "print(basket3[::-1]) #reverse a list [::-1], copying a list [:]\n",
        "print(basket3)\n",
        "\n"
      ],
      "metadata": {
        "colab": {
          "base_uri": "https://localhost:8080/"
        },
        "id": "jzSG0Xz5wT3R",
        "outputId": "80a30bc5-5d4a-409b-af44-13f23c38b13a"
      },
      "execution_count": null,
      "outputs": [
        {
          "output_type": "stream",
          "name": "stdout",
          "text": [
            "['e', 'd', 'c', 'b', 'a', 'a', '1.0']\n",
            "['1.0', 'a', 'a', 'b', 'c', 'd', 'e']\n",
            "['1.0', 'a', 'a', 'b', 'c', 'd', 'e']\n",
            "['e', 'd', 'c', 'b', 'a', 'a', '1.0']\n"
          ]
        }
      ]
    },
    {
      "cell_type": "code",
      "source": [
        "# generating list quickly\n",
        "print(list(range(1,100)))\n",
        "print(list(range(101)))"
      ],
      "metadata": {
        "colab": {
          "base_uri": "https://localhost:8080/"
        },
        "id": "Zbgnm9Dkwnay",
        "outputId": "8cbbd750-feb1-4aef-9064-ac565c6976c3"
      },
      "execution_count": null,
      "outputs": [
        {
          "output_type": "stream",
          "name": "stdout",
          "text": [
            "[1, 2, 3, 4, 5, 6, 7, 8, 9, 10, 11, 12, 13, 14, 15, 16, 17, 18, 19, 20, 21, 22, 23, 24, 25, 26, 27, 28, 29, 30, 31, 32, 33, 34, 35, 36, 37, 38, 39, 40, 41, 42, 43, 44, 45, 46, 47, 48, 49, 50, 51, 52, 53, 54, 55, 56, 57, 58, 59, 60, 61, 62, 63, 64, 65, 66, 67, 68, 69, 70, 71, 72, 73, 74, 75, 76, 77, 78, 79, 80, 81, 82, 83, 84, 85, 86, 87, 88, 89, 90, 91, 92, 93, 94, 95, 96, 97, 98, 99]\n",
            "[0, 1, 2, 3, 4, 5, 6, 7, 8, 9, 10, 11, 12, 13, 14, 15, 16, 17, 18, 19, 20, 21, 22, 23, 24, 25, 26, 27, 28, 29, 30, 31, 32, 33, 34, 35, 36, 37, 38, 39, 40, 41, 42, 43, 44, 45, 46, 47, 48, 49, 50, 51, 52, 53, 54, 55, 56, 57, 58, 59, 60, 61, 62, 63, 64, 65, 66, 67, 68, 69, 70, 71, 72, 73, 74, 75, 76, 77, 78, 79, 80, 81, 82, 83, 84, 85, 86, 87, 88, 89, 90, 91, 92, 93, 94, 95, 96, 97, 98, 99, 100]\n"
          ]
        }
      ]
    },
    {
      "cell_type": "code",
      "source": [
        "# joining string with list items\n",
        "sentence =\" \".join([\"Hi,\", \"My\", \"Name\", \"is\", \"ZOZO\"])\n",
        "#.join is a string method\n",
        "print(sentence)"
      ],
      "metadata": {
        "colab": {
          "base_uri": "https://localhost:8080/"
        },
        "id": "cwsRHBraxsAq",
        "outputId": "5ac927d3-ca99-41f2-b4cc-2149cd91a02c"
      },
      "execution_count": null,
      "outputs": [
        {
          "output_type": "stream",
          "name": "stdout",
          "text": [
            "Hi, My Name is ZOZO\n"
          ]
        }
      ]
    },
    {
      "cell_type": "code",
      "source": [
        "# list unpacking\n",
        "a,b,c, *other, d,e=[1,2,3,4,5,6,7,8]\n",
        "print(a)\n",
        "print(b)\n",
        "print(c)\n",
        "print(other)\n",
        "print(d)\n",
        "print(e)"
      ],
      "metadata": {
        "colab": {
          "base_uri": "https://localhost:8080/"
        },
        "id": "HVivsCwoysb5",
        "outputId": "5947c7f3-2b92-4a05-e73f-cb2d77fcac05"
      },
      "execution_count": null,
      "outputs": [
        {
          "output_type": "stream",
          "name": "stdout",
          "text": [
            "1\n",
            "2\n",
            "3\n",
            "[4, 5, 6]\n",
            "7\n",
            "8\n"
          ]
        }
      ]
    },
    {
      "cell_type": "code",
      "source": [
        "# None data types means absence of value\n",
        "weapons = None\n",
        "print(weapons)\n"
      ],
      "metadata": {
        "colab": {
          "base_uri": "https://localhost:8080/"
        },
        "id": "G8mmd_Kuzqf2",
        "outputId": "7e45eb15-a25b-4bb2-b75b-bd5d4153cf74"
      },
      "execution_count": null,
      "outputs": [
        {
          "output_type": "stream",
          "name": "stdout",
          "text": [
            "None\n"
          ]
        }
      ]
    },
    {
      "cell_type": "code",
      "source": [
        "#dictionary (data structure)\n",
        "# it's an unordered key  value pair\n",
        "dictionary ={\n",
        "    \"a\":1,\n",
        "    \"b\":2,\n",
        "    \"x\":3\n",
        "}\n",
        "print(dictionary)"
      ],
      "metadata": {
        "colab": {
          "base_uri": "https://localhost:8080/"
        },
        "id": "PbKUSt0U0Zq2",
        "outputId": "7258ed50-885d-47b3-e266-49a458feeba0"
      },
      "execution_count": null,
      "outputs": [
        {
          "output_type": "stream",
          "name": "stdout",
          "text": [
            "{'a': 1, 'b': 2, 'x': 3}\n"
          ]
        }
      ]
    },
    {
      "cell_type": "code",
      "source": [
        "print(\"y\" in dictionary)"
      ],
      "metadata": {
        "colab": {
          "base_uri": "https://localhost:8080/"
        },
        "id": "vbTrW5cH4lB4",
        "outputId": "855e4320-5bad-4ce6-d6a9-7229926f82a3"
      },
      "execution_count": null,
      "outputs": [
        {
          "output_type": "stream",
          "name": "stdout",
          "text": [
            "False\n"
          ]
        }
      ]
    },
    {
      "cell_type": "code",
      "source": [
        "print(3 in dictionary.values())"
      ],
      "metadata": {
        "colab": {
          "base_uri": "https://localhost:8080/"
        },
        "id": "JKRtDBLf7Pcy",
        "outputId": "adcd0405-b4b0-447c-ca33-12a984440521"
      },
      "execution_count": null,
      "outputs": [
        {
          "output_type": "stream",
          "name": "stdout",
          "text": [
            "True\n"
          ]
        }
      ]
    },
    {
      "cell_type": "code",
      "source": [
        "print(dictionary.items())"
      ],
      "metadata": {
        "colab": {
          "base_uri": "https://localhost:8080/"
        },
        "id": "DTAJ1dAS7i3I",
        "outputId": "0d3f0f3d-b42b-46b1-ef26-76ccf187f4f3"
      },
      "execution_count": null,
      "outputs": [
        {
          "output_type": "stream",
          "name": "stdout",
          "text": [
            "dict_items([('a', 1), ('b', 2), ('x', 3)])\n"
          ]
        }
      ]
    },
    {
      "cell_type": "code",
      "source": [
        "print(dictionary.pop(\"x\"))"
      ],
      "metadata": {
        "colab": {
          "base_uri": "https://localhost:8080/"
        },
        "id": "NpobcNSV745A",
        "outputId": "123c5992-c4ef-40fd-f4ac-19ecbc88f6cb"
      },
      "execution_count": null,
      "outputs": [
        {
          "output_type": "stream",
          "name": "stdout",
          "text": [
            "3\n"
          ]
        }
      ]
    },
    {
      "cell_type": "code",
      "source": [
        "print(dictionary)"
      ],
      "metadata": {
        "colab": {
          "base_uri": "https://localhost:8080/"
        },
        "id": "Y-OxIiNj8X6d",
        "outputId": "41708828-57d7-403f-f24a-b827039a47cb"
      },
      "execution_count": null,
      "outputs": [
        {
          "output_type": "stream",
          "name": "stdout",
          "text": [
            "{'a': 1, 'b': 2}\n"
          ]
        }
      ]
    },
    {
      "cell_type": "code",
      "source": [
        "print(dictionary.update({\"y\":5}))\n",
        "print(dictionary)"
      ],
      "metadata": {
        "colab": {
          "base_uri": "https://localhost:8080/"
        },
        "id": "eFZj2Gxk8Z-t",
        "outputId": "326d81ac-530f-428d-aa69-87b5db53ebd3"
      },
      "execution_count": null,
      "outputs": [
        {
          "output_type": "stream",
          "name": "stdout",
          "text": [
            "None\n",
            "{'a': 1, 'b': 2, 'y': 5}\n"
          ]
        }
      ]
    },
    {
      "cell_type": "code",
      "source": [
        "#tuples (3rd data structure)\n",
        "# tuples are immutable list\n",
        "my_tuples =(1,2,3,4,5)\n",
        "print(my_tuples[2])\n",
        "print(5 in my_tuples)"
      ],
      "metadata": {
        "colab": {
          "base_uri": "https://localhost:8080/"
        },
        "id": "e-a9OQOf8-iA",
        "outputId": "08ed3af5-95fe-4d60-e2da-6bafbd44d21a"
      },
      "execution_count": null,
      "outputs": [
        {
          "output_type": "stream",
          "name": "stdout",
          "text": [
            "3\n",
            "True\n"
          ]
        }
      ]
    },
    {
      "cell_type": "code",
      "source": [
        "my_tuples.count(3)"
      ],
      "metadata": {
        "colab": {
          "base_uri": "https://localhost:8080/"
        },
        "id": "n0vzOU-h_SQ3",
        "outputId": "6aa1d84c-9b48-49cc-e4fe-0bef3e722290"
      },
      "execution_count": null,
      "outputs": [
        {
          "output_type": "execute_result",
          "data": {
            "text/plain": [
              "1"
            ]
          },
          "metadata": {},
          "execution_count": 102
        }
      ]
    },
    {
      "cell_type": "code",
      "source": [
        "my_tuples.index(5)"
      ],
      "metadata": {
        "colab": {
          "base_uri": "https://localhost:8080/"
        },
        "id": "hXydiaPNArRK",
        "outputId": "fa62651b-f3b4-47f7-9c62-44a5ded62798"
      },
      "execution_count": null,
      "outputs": [
        {
          "output_type": "execute_result",
          "data": {
            "text/plain": [
              "4"
            ]
          },
          "metadata": {},
          "execution_count": 104
        }
      ]
    },
    {
      "cell_type": "code",
      "source": [
        "# Sets: Unordered collections of unique objects\n",
        "my_set={1,2,3,4,5,5}\n",
        "my_set.add(100)\n",
        "my_set.add(2)\n",
        "print(my_set)"
      ],
      "metadata": {
        "colab": {
          "base_uri": "https://localhost:8080/"
        },
        "id": "qInQ5px4AyIu",
        "outputId": "c547dda5-da92-40df-fa03-224660820a3a"
      },
      "execution_count": null,
      "outputs": [
        {
          "output_type": "stream",
          "name": "stdout",
          "text": [
            "{1, 2, 3, 4, 5, 100}\n"
          ]
        }
      ]
    },
    {
      "cell_type": "code",
      "source": [
        "# make set from list\n",
        "my_lists =[1,2,2,3,4,4,5]\n",
        "print(set(my_lists))\n"
      ],
      "metadata": {
        "colab": {
          "base_uri": "https://localhost:8080/"
        },
        "id": "bvZsY86hBeB6",
        "outputId": "af5967d9-b7b4-4415-ed52-1d5ffec35051"
      },
      "execution_count": null,
      "outputs": [
        {
          "output_type": "stream",
          "name": "stdout",
          "text": [
            "{1, 2, 3, 4, 5}\n"
          ]
        }
      ]
    },
    {
      "cell_type": "code",
      "source": [
        "my_set\n",
        "print(list(my_set))"
      ],
      "metadata": {
        "colab": {
          "base_uri": "https://localhost:8080/"
        },
        "id": "XsmDDhtMB_A3",
        "outputId": "36d0575f-04a1-43a2-b162-d4997f7e18bd"
      },
      "execution_count": null,
      "outputs": [
        {
          "output_type": "stream",
          "name": "stdout",
          "text": [
            "[1, 2, 3, 4, 5, 100]\n"
          ]
        }
      ]
    },
    {
      "cell_type": "code",
      "source": [
        "# conditional logic\n",
        "is_old =True\n",
        "is_license = True\n",
        "if is_old and is_license:\n",
        "  print(\"Congrats! You are old enough to drive!\")\n",
        "else:\n",
        "  print(\"Sorry! You can't drive!\")\n",
        "\n",
        "\n",
        "print(\"Program Ends!\")\n"
      ],
      "metadata": {
        "colab": {
          "base_uri": "https://localhost:8080/"
        },
        "id": "8mhDxBf1CT6e",
        "outputId": "a78f1be0-fffc-497d-93e0-8dbca920f0eb"
      },
      "execution_count": null,
      "outputs": [
        {
          "output_type": "stream",
          "name": "stdout",
          "text": [
            "Congrats! You are old enough to drive!\n",
            "Program Ends!\n"
          ]
        }
      ]
    },
    {
      "cell_type": "code",
      "source": [
        "# shortcut for conditional logic\n",
        "# ternary operator\n",
        "# condition_if_true condition else condition_if_false\n",
        "\n",
        "is_friend =False\n",
        "can_message = \"message allowed\" if is_friend else \"Not allowed to message!\"\n",
        "print(can_message)"
      ],
      "metadata": {
        "colab": {
          "base_uri": "https://localhost:8080/"
        },
        "id": "Uj_Q9QIIVCbg",
        "outputId": "eb841511-b378-4488-883d-f5d30a5dd556"
      },
      "execution_count": null,
      "outputs": [
        {
          "output_type": "stream",
          "name": "stdout",
          "text": [
            "Not allowed to message!\n"
          ]
        }
      ]
    },
    {
      "cell_type": "code",
      "source": [
        "#shortcircuiting\n",
        "is_friend = False\n",
        "is_user = True\n",
        "if is_friend or is_user:\n",
        "  print(\"Buddies\")"
      ],
      "metadata": {
        "colab": {
          "base_uri": "https://localhost:8080/"
        },
        "id": "T2RHXympY9ai",
        "outputId": "647842ed-68fc-41a8-f9e1-879812ac2042"
      },
      "execution_count": null,
      "outputs": [
        {
          "output_type": "stream",
          "name": "stdout",
          "text": [
            "Buddies\n"
          ]
        }
      ]
    },
    {
      "cell_type": "code",
      "source": [
        "is_magician = True\n",
        "is_expert = False\n",
        "\n",
        "if is_magician and is_expert:\n",
        "  print(\"You are a master magician\")\n",
        "elif is_magician and not is_expert:\n",
        "  print(\"At least you are getting there!\")\n",
        "else:\n",
        "  print(\"You need magic powers!\")\n"
      ],
      "metadata": {
        "colab": {
          "base_uri": "https://localhost:8080/"
        },
        "id": "9HPHvAlkaqEh",
        "outputId": "48228ad3-b12b-4e47-ba94-cee75482d450"
      },
      "execution_count": null,
      "outputs": [
        {
          "output_type": "stream",
          "name": "stdout",
          "text": [
            "At least you are getting there!\n"
          ]
        }
      ]
    },
    {
      "cell_type": "code",
      "source": [],
      "metadata": {
        "id": "CgU4qQtIlYBQ"
      },
      "execution_count": null,
      "outputs": []
    },
    {
      "cell_type": "code",
      "source": [
        "data = {\n",
        "    \"name\" : \"Mukshed\",\n",
        "    \"age\":30,\n",
        "    \"can_swim\":True\n",
        "\n",
        "}\n",
        "for i in data:\n",
        "  print(i) \n",
        "print( )\n",
        "for i in data.items():\n",
        "  print(i) \n",
        "print( )\n",
        "for i in data.values():\n",
        "  print(i) \n",
        "print( )\n",
        "for i in data.keys():\n",
        "  print(i)\n",
        "print( )\n",
        "for k, v in data.items():\n",
        "  print(k,v)"
      ],
      "metadata": {
        "colab": {
          "base_uri": "https://localhost:8080/"
        },
        "id": "bmj0ZcK1djFi",
        "outputId": "24a37a61-fbfe-4af3-9a3b-5e23b12aec1b"
      },
      "execution_count": null,
      "outputs": [
        {
          "output_type": "stream",
          "name": "stdout",
          "text": [
            "name\n",
            "age\n",
            "can_swim\n",
            "\n",
            "('name', 'Mukshed')\n",
            "('age', 30)\n",
            "('can_swim', True)\n",
            "\n",
            "Mukshed\n",
            "30\n",
            "True\n",
            "\n",
            "name\n",
            "age\n",
            "can_swim\n",
            "\n",
            "name Mukshed\n",
            "age 30\n",
            "can_swim True\n"
          ]
        }
      ]
    },
    {
      "cell_type": "code",
      "source": [
        "my_list =[1,2,3,4,5,6,7,8,9,10]\n",
        "sum = 0\n",
        "for i in my_list:\n",
        "  sum = sum + i\n",
        "print(sum)\n"
      ],
      "metadata": {
        "colab": {
          "base_uri": "https://localhost:8080/"
        },
        "id": "ZpT_aG0bldb0",
        "outputId": "24602644-d66b-4667-d65b-646925686324"
      },
      "execution_count": null,
      "outputs": [
        {
          "output_type": "stream",
          "name": "stdout",
          "text": [
            "55\n"
          ]
        }
      ]
    },
    {
      "cell_type": "code",
      "source": [
        "#range function\n",
        "for _ in range(10,0,-2):\n",
        "  print(list(range(10)))"
      ],
      "metadata": {
        "colab": {
          "base_uri": "https://localhost:8080/"
        },
        "id": "0ABVe5owqRPY",
        "outputId": "66c4a3b4-d1c8-49c3-9533-e5f00461bea6"
      },
      "execution_count": null,
      "outputs": [
        {
          "output_type": "stream",
          "name": "stdout",
          "text": [
            "[0, 1, 2, 3, 4, 5, 6, 7, 8, 9]\n",
            "[0, 1, 2, 3, 4, 5, 6, 7, 8, 9]\n",
            "[0, 1, 2, 3, 4, 5, 6, 7, 8, 9]\n",
            "[0, 1, 2, 3, 4, 5, 6, 7, 8, 9]\n",
            "[0, 1, 2, 3, 4, 5, 6, 7, 8, 9]\n"
          ]
        }
      ]
    },
    {
      "cell_type": "code",
      "source": [
        "# enumerate function\n",
        "for i, char in enumerate(\"Hello\"):\n",
        "  print(i,char)"
      ],
      "metadata": {
        "colab": {
          "base_uri": "https://localhost:8080/"
        },
        "id": "YbKKF1qCcPRb",
        "outputId": "8f5ae0f0-5bcc-4752-8e7a-e49d623b13aa"
      },
      "execution_count": null,
      "outputs": [
        {
          "output_type": "stream",
          "name": "stdout",
          "text": [
            "0 H\n",
            "1 e\n",
            "2 l\n",
            "3 l\n",
            "4 o\n"
          ]
        }
      ]
    },
    {
      "cell_type": "code",
      "source": [
        "for i, char in enumerate(list(range(100))):\n",
        "  if char==50:\n",
        "    print(f\"Index of {char} is {i}\")\n",
        "  # print(i,char)"
      ],
      "metadata": {
        "colab": {
          "base_uri": "https://localhost:8080/"
        },
        "id": "YUfvc8PYdGHd",
        "outputId": "222557c5-d7be-439c-89ec-5f98fc79ff41"
      },
      "execution_count": null,
      "outputs": [
        {
          "output_type": "stream",
          "name": "stdout",
          "text": [
            "Index of 50 is 50\n"
          ]
        }
      ]
    },
    {
      "cell_type": "code",
      "source": [
        "# while loop\n",
        "while True:\n",
        "  response =input(\"Write Something :\")\n",
        "\n",
        "  if response == \"bye\":\n",
        "    break\n",
        "\n",
        "  \n",
        " "
      ],
      "metadata": {
        "colab": {
          "base_uri": "https://localhost:8080/"
        },
        "id": "g47scpqLdes0",
        "outputId": "cf363b6f-69bc-4c05-f7af-10d215817e2d"
      },
      "execution_count": null,
      "outputs": [
        {
          "name": "stdout",
          "output_type": "stream",
          "text": [
            "Write Something :hi\n",
            "Write Something :hi\n",
            "Write Something :hi\n",
            "Write Something :bye\n"
          ]
        }
      ]
    },
    {
      "cell_type": "code",
      "source": [
        "i =0\n",
        "my_list =[1,2,3,4,9,5]\n",
        "while i<len(my_list):\n",
        "  print(my_list[i])\n",
        "  i+=1"
      ],
      "metadata": {
        "colab": {
          "base_uri": "https://localhost:8080/"
        },
        "id": "Kjaqg6Cvh9hh",
        "outputId": "f527a6ea-ba35-49ee-f465-e4d53837cb49"
      },
      "execution_count": null,
      "outputs": [
        {
          "output_type": "stream",
          "name": "stdout",
          "text": [
            "1\n",
            "2\n",
            "3\n",
            "4\n",
            "9\n",
            "5\n"
          ]
        }
      ]
    },
    {
      "cell_type": "code",
      "source": [
        "# check for duplicates in list\n",
        "some_list =[\"a\",\"b\",\"c\",\"c\",\"d\",\"d\",\"e\",\"f\"]\n",
        "some_list_wd = set(some_list)\n",
        "print(some_list_wd)\n"
      ],
      "metadata": {
        "id": "b9tyEwVyjchY",
        "colab": {
          "base_uri": "https://localhost:8080/"
        },
        "outputId": "89f19ce6-9588-45ec-d116-98c8d0a83393"
      },
      "execution_count": null,
      "outputs": [
        {
          "output_type": "stream",
          "name": "stdout",
          "text": [
            "{'e', 'c', 'a', 'b', 'd', 'f'}\n"
          ]
        }
      ]
    },
    {
      "cell_type": "code",
      "source": [
        "some_list =[\"a\",\"b\",\"c\",\"c\",\"d\",\"d\",\"e\",\"f\"]\n",
        "\n",
        "duplicate =[]\n",
        "wd =[]\n",
        "for value in some_list:\n",
        "  if some_list.count(value) >1:\n",
        "    if value not in duplicate:\n",
        "\n",
        "      duplicate.append(value)\n",
        "  else:\n",
        "    wd.append(value)\n",
        "\n",
        "\n",
        "print(duplicate)\n",
        "\n",
        "print(wd)\n",
        "\n"
      ],
      "metadata": {
        "colab": {
          "base_uri": "https://localhost:8080/"
        },
        "id": "evViWuNTWKTC",
        "outputId": "55520d3e-714c-433a-f106-2cceb8e0ced2"
      },
      "execution_count": null,
      "outputs": [
        {
          "output_type": "stream",
          "name": "stdout",
          "text": [
            "['c', 'd']\n",
            "['a', 'b', 'e', 'f']\n"
          ]
        }
      ]
    },
    {
      "cell_type": "code",
      "source": [
        "  # function in python\n",
        "def make_addition(x,y):\n",
        "    print(f\"Addition result : {x+y}\")\n",
        "  \n",
        "\n"
      ],
      "metadata": {
        "id": "ibcmhLnzXke_"
      },
      "execution_count": null,
      "outputs": []
    },
    {
      "cell_type": "code",
      "source": [
        "make_addition(10,1)"
      ],
      "metadata": {
        "colab": {
          "base_uri": "https://localhost:8080/"
        },
        "id": "YJ9ynv-ybJD0",
        "outputId": "3c7787af-6a63-453b-b5aa-fc13de5cd41b"
      },
      "execution_count": null,
      "outputs": [
        {
          "output_type": "stream",
          "name": "stdout",
          "text": [
            "Addition result : 11\n"
          ]
        }
      ]
    },
    {
      "cell_type": "code",
      "source": [
        "# parameters are used when we define the function\n",
        "#arguments are used when we call the function/ invoking the function\n",
        "def say_hello(fname, surname):\n",
        "  print(f\"Hello, {fname} {surname}\")\n"
      ],
      "metadata": {
        "id": "dBaepy8qbij9"
      },
      "execution_count": null,
      "outputs": []
    },
    {
      "cell_type": "code",
      "source": [
        "#positional arguments\n",
        "say_hello('Amit', 'Singha')"
      ],
      "metadata": {
        "colab": {
          "base_uri": "https://localhost:8080/"
        },
        "id": "XMwLZVI-eE-p",
        "outputId": "309f9871-6c89-4ce6-d10d-887780f15e05"
      },
      "execution_count": null,
      "outputs": [
        {
          "output_type": "stream",
          "name": "stdout",
          "text": [
            "Hello, Amit Singha\n"
          ]
        }
      ]
    },
    {
      "cell_type": "code",
      "source": [
        "#keyword arguments\n",
        "say_hello(fname=\"Amit\", surname=\"Singha\")"
      ],
      "metadata": {
        "colab": {
          "base_uri": "https://localhost:8080/"
        },
        "id": "EAkA-OGleITb",
        "outputId": "ada23537-5d6a-47c1-ee64-4438edc52489"
      },
      "execution_count": null,
      "outputs": [
        {
          "output_type": "stream",
          "name": "stdout",
          "text": [
            "Hello, Amit Singha\n"
          ]
        }
      ]
    },
    {
      "cell_type": "code",
      "source": [
        "def sums(num1, num2):\n",
        "  return num1 + num2\n",
        "total = sums(10,3)\n",
        "sums(total,10)\n"
      ],
      "metadata": {
        "colab": {
          "base_uri": "https://localhost:8080/"
        },
        "id": "RoAATQvnejoq",
        "outputId": "74cf32ff-8cc8-46ee-da06-d1e5707cfc90"
      },
      "execution_count": null,
      "outputs": [
        {
          "output_type": "execute_result",
          "data": {
            "text/plain": [
              "23"
            ]
          },
          "metadata": {},
          "execution_count": 56
        }
      ]
    },
    {
      "cell_type": "code",
      "source": [
        "# tesla self driving car code\n",
        "\n",
        "age = input(\"What is your age?: \")\n",
        "\n",
        "if int(age) < 18:\n",
        "\tprint(\"Sorry, you are too young to drive this car. Powering off\")\n",
        "elif int(age) > 18:\n",
        "\tprint(\"Powering On. Enjoy the ride!\");\n",
        "elif int(age) == 18:\n",
        "\tprint(\"Congratulations on your first year of driving. Enjoy the ride!\")"
      ],
      "metadata": {
        "colab": {
          "base_uri": "https://localhost:8080/"
        },
        "id": "ogXyrvqPhZEL",
        "outputId": "73a05ae1-8c0d-4f03-ee02-c3f1c8e306da"
      },
      "execution_count": null,
      "outputs": [
        {
          "output_type": "stream",
          "name": "stdout",
          "text": [
            "What is your age?: 26\n",
            "Powering On. Enjoy the ride!\n"
          ]
        }
      ]
    },
    {
      "cell_type": "code",
      "source": [
        "def checkDriverAge():\n",
        "  age = input(\"What is your age?: \")\n",
        "\n",
        "  if int(age) < 18:\n",
        "    print(\"Sorry, you are too young to drive this car. Powering off\")\n",
        "  elif int(age) > 18:\n",
        "    print(\"Powering On. Enjoy the ride!\");\n",
        "  elif int(age) == 18:\n",
        "    print(\"Congratulations on your first year of driving. Enjoy the ride!\")"
      ],
      "metadata": {
        "id": "Yt2EX0cvj2Mx"
      },
      "execution_count": null,
      "outputs": []
    },
    {
      "cell_type": "code",
      "source": [
        "checkDriverAge()"
      ],
      "metadata": {
        "colab": {
          "base_uri": "https://localhost:8080/"
        },
        "id": "iVua4CLfkI_L",
        "outputId": "affe7c6d-9be0-4091-d8e4-b77757aaf5eb"
      },
      "execution_count": null,
      "outputs": [
        {
          "output_type": "stream",
          "name": "stdout",
          "text": [
            "What is your age?: 26\n",
            "Powering On. Enjoy the ride!\n"
          ]
        }
      ]
    },
    {
      "cell_type": "code",
      "source": [
        "def checkDriverAge(age):\n",
        "  \n",
        "\n",
        "  if int(age) < 18:\n",
        "    print(\"Sorry, you are too young to drive this car. Powering off\")\n",
        "  elif int(age) > 18:\n",
        "    print(\"Powering On. Enjoy the ride!\");\n",
        "  elif int(age) == 18:\n",
        "    print(\"Congratulations on your first year of driving. Enjoy the ride!\")"
      ],
      "metadata": {
        "id": "vGqfiwjAkRNO"
      },
      "execution_count": null,
      "outputs": []
    },
    {
      "cell_type": "code",
      "source": [
        "checkDriverAge(26)"
      ],
      "metadata": {
        "colab": {
          "base_uri": "https://localhost:8080/"
        },
        "id": "T4-xDByGkj6h",
        "outputId": "09910f2b-70de-4f57-ba8f-6177af97577e"
      },
      "execution_count": null,
      "outputs": [
        {
          "output_type": "stream",
          "name": "stdout",
          "text": [
            "Powering On. Enjoy the ride!\n"
          ]
        }
      ]
    },
    {
      "cell_type": "code",
      "source": [
        "checkDriverAge(17)"
      ],
      "metadata": {
        "colab": {
          "base_uri": "https://localhost:8080/"
        },
        "id": "0mMiU33bkmaP",
        "outputId": "ebd5ffb3-5cec-4b55-8af1-e0dc04a98905"
      },
      "execution_count": null,
      "outputs": [
        {
          "output_type": "stream",
          "name": "stdout",
          "text": [
            "Sorry, you are too young to drive this car. Powering off\n"
          ]
        }
      ]
    },
    {
      "cell_type": "code",
      "source": [
        "checkDriverAge(18)"
      ],
      "metadata": {
        "colab": {
          "base_uri": "https://localhost:8080/"
        },
        "id": "plNMVQEOko-z",
        "outputId": "028b4cc5-1c79-4b27-f546-33739df96ac3"
      },
      "execution_count": null,
      "outputs": [
        {
          "output_type": "stream",
          "name": "stdout",
          "text": [
            "Congratulations on your first year of driving. Enjoy the ride!\n"
          ]
        }
      ]
    },
    {
      "cell_type": "code",
      "source": [
        "# docstring: commenting about function\n",
        "def test(a):\n",
        "\n",
        "  '''\n",
        "  this function test prints a\n",
        "  '''\n",
        "  print (a)\n",
        "\n",
        "test('hi')\n",
        "test(5)"
      ],
      "metadata": {
        "colab": {
          "base_uri": "https://localhost:8080/"
        },
        "id": "Mi4hFkJukqpP",
        "outputId": "5f76a2dc-c83c-4b98-d399-768f8b062b0e"
      },
      "execution_count": null,
      "outputs": [
        {
          "output_type": "stream",
          "name": "stdout",
          "text": [
            "hi\n",
            "5\n"
          ]
        }
      ]
    },
    {
      "cell_type": "code",
      "source": [
        "help(test)"
      ],
      "metadata": {
        "colab": {
          "base_uri": "https://localhost:8080/"
        },
        "id": "Y1BKzIX3uomF",
        "outputId": "3c874d23-a611-4c8d-97cc-52b09c54eb10"
      },
      "execution_count": null,
      "outputs": [
        {
          "output_type": "stream",
          "name": "stdout",
          "text": [
            "Help on function test in module __main__:\n",
            "\n",
            "test(a)\n",
            "    this function test prints a\n",
            "\n"
          ]
        }
      ]
    },
    {
      "cell_type": "code",
      "source": [
        "print(test.__doc__)"
      ],
      "metadata": {
        "colab": {
          "base_uri": "https://localhost:8080/"
        },
        "id": "LSCknscXuxul",
        "outputId": "35363537-e8c0-423c-a434-2780ed3c536c"
      },
      "execution_count": null,
      "outputs": [
        {
          "output_type": "stream",
          "name": "stdout",
          "text": [
            "\n",
            "  this function test prints a\n",
            "  \n"
          ]
        }
      ]
    },
    {
      "cell_type": "code",
      "source": [
        "# from re import sub\n",
        "# *args # **kwargs\n",
        "\n",
        "\n",
        "def super_func(*args, **kargs):\n",
        "  total =0\n",
        "  for i in kargs.values():\n",
        "    total = total + i\n",
        "  \n",
        "    \n",
        "\n",
        "  # print(args)\n",
        "  return sum(*args)+total\n",
        "  \n",
        "\n",
        "print(super_func(4,5, num1=5, num2=10, num3=16))"
      ],
      "metadata": {
        "colab": {
          "base_uri": "https://localhost:8080/"
        },
        "id": "EvoFTmipu2Y8",
        "outputId": "b1499fdc-a936-44f5-9c6d-db6532187441"
      },
      "execution_count": null,
      "outputs": [
        {
          "output_type": "stream",
          "name": "stdout",
          "text": [
            "40\n"
          ]
        }
      ]
    },
    {
      "cell_type": "code",
      "source": [
        "# making fucntion to get the highest even number\n",
        "def highest_even(li):\n",
        "  evens =[]\n",
        "  for i in li:\n",
        "    if i%2 ==0:\n",
        "      evens.append(i)\n",
        "  return max(evens)\n",
        "\n",
        "\n",
        "\n",
        "print(highest_even([2,4,16,10]))\n"
      ],
      "metadata": {
        "colab": {
          "base_uri": "https://localhost:8080/"
        },
        "id": "1bnGXmtgyJko",
        "outputId": "1b477923-0514-4769-b483-5cb3918f95e1"
      },
      "execution_count": null,
      "outputs": [
        {
          "output_type": "stream",
          "name": "stdout",
          "text": [
            "16\n"
          ]
        }
      ]
    },
    {
      "cell_type": "code",
      "source": [
        "class BigObject: #creating class\n",
        "  pass\n",
        "obj1=BigObject() #instantiate and creating instance called object\n",
        "print(type(obj1))"
      ],
      "metadata": {
        "id": "cIJA990o3K7D",
        "colab": {
          "base_uri": "https://localhost:8080/"
        },
        "outputId": "32c4c699-0191-4a8c-a36c-ca966396e13d"
      },
      "execution_count": null,
      "outputs": [
        {
          "output_type": "stream",
          "name": "stdout",
          "text": [
            "<class '__main__.BigObject'>\n"
          ]
        }
      ]
    },
    {
      "cell_type": "code",
      "source": [
        "#oop \n",
        "class PlayerCharacter:\n",
        "  membership =True #class object attribute is static\n",
        "\n",
        "  def __init__(self,name,age): #dunder or magic method\n",
        "    if (self.membership):\n",
        "\n",
        "      self.name=name #attributes/properties #class attrubute are dynamic\n",
        "      self.age=age\n",
        "\n",
        "\n",
        "#attributes are pieces of data that will be dynamic\n",
        "#when we instantiate an object they will be unique to that object\n",
        "  \n",
        "  def run(self): #methods\n",
        "    print(\"run\")\n",
        "    return \"done\"\n",
        "  \n",
        "  def shout(self):\n",
        "    print(f\"My name is : {self.name}\")\n",
        "\n",
        "player1= PlayerCharacter(\"Amit\",26)\n",
        "player2= PlayerCharacter(\"Puja\",24)\n",
        "\n",
        "print(player1.age)\n",
        "print(player2.name)\n",
        "print(player1.shout())\n",
        "print(player1.membership)\n",
        "# help(player1)"
      ],
      "metadata": {
        "colab": {
          "base_uri": "https://localhost:8080/"
        },
        "id": "6j1xNZxuIiL6",
        "outputId": "88b9cd82-9bcc-4507-e90d-38ce8076865e"
      },
      "execution_count": null,
      "outputs": [
        {
          "output_type": "stream",
          "name": "stdout",
          "text": [
            "26\n",
            "Puja\n",
            "My name is : Amit\n",
            "None\n",
            "True\n"
          ]
        }
      ]
    },
    {
      "cell_type": "code",
      "source": [
        "help(list)"
      ],
      "metadata": {
        "id": "dBZ_XdaTnJ0-"
      },
      "execution_count": null,
      "outputs": []
    },
    {
      "cell_type": "code",
      "source": [
        "class AbcD:\n",
        "  is_membership =True #class object attribute\n",
        "  def __init__(self, name=\"anonymous\", age=0): #method\n",
        "    if (age>18):\n",
        "      self.name =name #class attributes\n",
        "      self.age =age\n",
        "\n",
        "  def shout(self): #method\n",
        "    print(f\"My name is : {self.name}\") \n",
        "  \n",
        "pl1= AbcD(name=\"a\", age=22)\n",
        "print(pl1.name)\n",
        "    \n"
      ],
      "metadata": {
        "colab": {
          "base_uri": "https://localhost:8080/"
        },
        "id": "6cvHS-H_rPb7",
        "outputId": "be14bb00-51a7-4a4d-818e-ac5f8d0114c3"
      },
      "execution_count": null,
      "outputs": [
        {
          "output_type": "stream",
          "name": "stdout",
          "text": [
            "a\n"
          ]
        }
      ]
    },
    {
      "cell_type": "code",
      "source": [
        "#Exercise\n",
        "\n",
        "#Given the below class:\n",
        "class Cat: #class\n",
        "    species = 'mammal' #class object attribute\n",
        "    def __init__(self, name, age): #method\n",
        "        self.name = name #class attribute\n",
        "        self.age = age #class attribute\n",
        "        \n",
        "# 1 Instantiate the Cat object with 3 cats\n",
        "cat1= Cat(\"A\",1) \n",
        "cat2= Cat(\"B\",20)\n",
        "cat3= Cat(\"C\",4)\n",
        "\n",
        "# 2 Create a function that finds the oldest cat\n",
        "def oldest_cat():\n",
        "  return max([cat1.age, cat2.age, cat3.age])\n",
        "\n",
        "# 3 Print out: \"The oldest cat is x years old.\". x will be the oldest cat age by using the function in #2\n",
        "print(f\"The oldest cat is {oldest_cat()} years old.\")"
      ],
      "metadata": {
        "colab": {
          "base_uri": "https://localhost:8080/"
        },
        "id": "H_T8x6scx2y8",
        "outputId": "9fc2a6b0-6bfc-4b50-c545-c4cddf6ea3d8"
      },
      "execution_count": null,
      "outputs": [
        {
          "output_type": "stream",
          "name": "stdout",
          "text": [
            "The oldest cat is 20 years old.\n"
          ]
        }
      ]
    },
    {
      "cell_type": "code",
      "source": [
        "class PlayerCharacter:\n",
        "  membership =True #class object attribute is static\n",
        "\n",
        "  def __init__(self,name,age): #dunder or magic method\n",
        "    if (self.membership):\n",
        "\n",
        "      self.name=name #attributes/properties #class attrubute are dynamic\n",
        "      self.age=age\n",
        "\n",
        "  @classmethod\n",
        "  def adding_things(cls, num1, num2):\n",
        "    return cls(\"teddy\", num1 +num2)\n",
        "  \n",
        "  @staticmethod\n",
        "  #we don't care about attributes\n",
        "  def adding_things_2(num1,num2):\n",
        "    return num1+num2\n",
        "\n",
        "player3 = PlayerCharacter.adding_things(2,3)\n",
        "print(player3.name)\n",
        "print( PlayerCharacter.adding_things_2(2,1))\n"
      ],
      "metadata": {
        "colab": {
          "base_uri": "https://localhost:8080/"
        },
        "id": "a6LBV9c81fyD",
        "outputId": "c1798acc-3ba9-43e8-cd41-149c8c9040f6"
      },
      "execution_count": null,
      "outputs": [
        {
          "output_type": "stream",
          "name": "stdout",
          "text": [
            "teddy\n",
            "3\n"
          ]
        }
      ]
    },
    {
      "cell_type": "code",
      "source": [
        "class Computer:\n",
        "  #special method\n",
        "  def __init__(self, acpu, aram):\n",
        "    self.cpu = acpu\n",
        "    self.ram =aram\n",
        "  #method\n",
        "  def configure(self): \n",
        "    print(f\"PC configuration is {self.cpu} and {self.ram}\")\n",
        "  \n",
        "  #instantiate\n",
        "com1= Computer(\"i5\", 8)\n",
        "com2= Computer(\"i7\", 16)\n",
        "\n",
        "print(com1.configure())\n",
        "print(com2.configure()) \n",
        "\n",
        "print(com1.cpu)\n",
        "print(com2.ram)\n",
        "# Computer.configure(com1)\n",
        "\n",
        "  \n",
        "\n",
        "\n"
      ],
      "metadata": {
        "colab": {
          "base_uri": "https://localhost:8080/"
        },
        "id": "Gz5NVIFM4hdW",
        "outputId": "300fac44-7dc5-47dc-909b-2392dd2d1eb4"
      },
      "execution_count": null,
      "outputs": [
        {
          "output_type": "stream",
          "name": "stdout",
          "text": [
            "PC configuration is i5 and 8\n",
            "None\n",
            "PC configuration is i7 and 16\n",
            "None\n",
            "i5\n",
            "16\n"
          ]
        }
      ]
    },
    {
      "cell_type": "code",
      "source": [
        "class Com:\n",
        "  def __init__(self, aname, aage):\n",
        "    self.name =aname\n",
        "    self.age =aage\n",
        "  #comparing two objects\n",
        "  def compare(self,other):\n",
        "    if self.age == other.age:\n",
        "      return True\n",
        "    else:\n",
        "      return False\n",
        "\n",
        "c1=Com(\"Navid\", 18)# stored in heap memory\n",
        "c2=Com(\"ball\", 18)\n",
        "\n",
        "print(c1.compare(c2))\n",
        "print(c2.compare(c1))\n"
      ],
      "metadata": {
        "colab": {
          "base_uri": "https://localhost:8080/"
        },
        "id": "NdJ03pCxndmp",
        "outputId": "26596740-8ea4-4d7e-9426-e87005a2f901"
      },
      "execution_count": null,
      "outputs": [
        {
          "output_type": "stream",
          "name": "stdout",
          "text": [
            "True\n",
            "True\n"
          ]
        }
      ]
    },
    {
      "cell_type": "code",
      "source": [
        "# if you define a variable inside init it becomes isntance variable\n",
        "# if you define a variable outsise of init but inside of class its class variable\n",
        "\n",
        "# class variable vs instance variable\n",
        "\n",
        "class Car:\n",
        "  wheels =4 # class variable/static variable\n",
        "  def __init__(self, mil, company):\n",
        "    self.millage =mil #instance variable\n",
        "    self.comp = company\n",
        "  \n",
        "\n",
        "c1 = Car(1200,\"BMW\")\n",
        "c2= Car(1400,\"Audi\")\n",
        "\n",
        "print(c1.millage, c1.wheels)\n",
        "\n",
        "c1.wheels =9\n",
        "Car.wheels=6\n",
        "print(c1.wheels, Car.wheels)\n",
        "\n",
        "\n",
        "\n",
        "    \n"
      ],
      "metadata": {
        "colab": {
          "base_uri": "https://localhost:8080/"
        },
        "id": "qmlubpNcrkwt",
        "outputId": "6534f84c-281c-49ab-8a61-9a2c1bc1ac68"
      },
      "execution_count": null,
      "outputs": [
        {
          "output_type": "stream",
          "name": "stdout",
          "text": [
            "1200 4\n",
            "9 6\n"
          ]
        }
      ]
    },
    {
      "cell_type": "code",
      "source": [
        "#types of methods\n",
        "#instance method, class method static method\n",
        "\n",
        "class Student:\n",
        "  #class variable\n",
        "  school_name =\"ResearchAndBeyond\"\n",
        "\n",
        "  #constructor\n",
        "  def __init__(self, m1,m2,m3):\n",
        "    self.m1=m1 #instance variable\n",
        "    self.m2=m2\n",
        "    self.m3=m3\n",
        "\n",
        "#instance method\n",
        "  def avg(self):\n",
        "    return (self.m1+self.m2+self.m3)/3\n",
        "  \n",
        "  #class method\n",
        "  @classmethod\n",
        "  def info(cls):\n",
        "    return cls.school_name\n",
        "\n",
        "  #static method has nothing to do with instance variable or class variable\n",
        "  @staticmethod\n",
        "  def lala():\n",
        "    return(\"This is static method\")\n",
        "\n",
        "s1=Student(12,34,533)\n",
        "s2=Student(12,4,12)\n",
        "\n",
        "\n",
        "\n",
        "print(s1.avg())\n",
        "print(s2.avg())\n",
        "\n",
        "print(Student.info())\n",
        "print(Student.lala())\n",
        "\n",
        "\n"
      ],
      "metadata": {
        "colab": {
          "base_uri": "https://localhost:8080/"
        },
        "id": "gOHodZKOxEwr",
        "outputId": "1e7fc229-0caf-4ef6-e6d8-21595a572d92"
      },
      "execution_count": null,
      "outputs": [
        {
          "output_type": "stream",
          "name": "stdout",
          "text": [
            "193.0\n",
            "9.333333333333334\n",
            "ResearchAndBeyond\n",
            "This is static method\n"
          ]
        }
      ]
    },
    {
      "cell_type": "code",
      "source": [
        "# inner class\n",
        "class Student:\n",
        "  def __init__(self, name, rollno):\n",
        "    self.name = name\n",
        "    self.rollno= rollno\n",
        "    self.lap=self.Laptop()\n",
        "    # self.lap2=self.Laptop(\"H2P\", 8)\n",
        "\n",
        "\n",
        "  \n",
        "  #instance method\n",
        "  def show(self):\n",
        "    print (self.name, self.rollno)\n",
        "    self.lap.show()\n",
        "    # self.lap2.show()\n",
        "  \n",
        "  #inner class\n",
        "  class Laptop:\n",
        "    def __init__(self):\n",
        "      self.brand =\"HP\"\n",
        "      self.ram =8\n",
        "    \n",
        "    def show(self):\n",
        "      print(self.brand, self.ram)\n",
        "  \n",
        "#outer class instance\n",
        "s1= Student(\"A\",2)\n",
        "s2=Student(\"B\",3)\n",
        "#inner class instance\n",
        "# lap1= Student.Laptop(\"HP\", 8)\n",
        "# lap2= Student.Laptop(\"DELL\", 16)\n",
        "\n",
        "# print(lap1.show())\n",
        "# print(lap2.show())\n",
        "\n",
        "\n",
        "\n",
        "print(s1.show())\n",
        "# print(s2.show())"
      ],
      "metadata": {
        "colab": {
          "base_uri": "https://localhost:8080/"
        },
        "id": "eQVHnhB-1NPT",
        "outputId": "8d73f88b-87dd-4c4f-e89d-dbd9ef144e3a"
      },
      "execution_count": null,
      "outputs": [
        {
          "output_type": "stream",
          "name": "stdout",
          "text": [
            "A 2\n",
            "HP 8\n",
            "None\n"
          ]
        }
      ]
    },
    {
      "cell_type": "code",
      "source": [
        "#inheritance\n",
        "# using the property of parent class by child class\n",
        "\n",
        "#single level inheritance\n",
        "\n",
        "class A:\n",
        "  def __init__(self):\n",
        "    pass\n",
        "  def feature1(self):\n",
        "    print(\"Feature1 is working\")\n",
        "  def feature2(self):\n",
        "    print(\"Feature2 is working\")\n",
        "\n",
        "class B(A): #inheritance occurs\n",
        "  def __init__(self):\n",
        "    pass\n",
        "  def feature3(self):\n",
        "    print(\"Feature3 is working\")\n",
        "  def feature4(self):\n",
        "    print(\"Feature4 is working\")\n",
        "\n",
        "#multi level inheritance\n",
        "class C(B):\n",
        "  def __init__(self) -> None:\n",
        "    pass\n",
        "  \n",
        "  def feature5(self):\n",
        "    print(\"Feature5 is working\")\n",
        "\n",
        "#multiple inheritance\n",
        "# class C(A,B):\n",
        "#   def __init__(self) -> None:\n",
        "#     pass\n",
        "  \n",
        "#   def feature5(self):\n",
        "#     print(\"Feature5 is working\")\n",
        "\n",
        "#OBJECT INSTANCETIATE\n",
        "a1=A()\n",
        "a2=A()\n",
        "b1=B()\n",
        "b2=B()\n",
        "c1=C()\n",
        "\n",
        "a1.feature1()\n",
        "a2.feature2()\n",
        "b1.feature3()\n",
        "b2.feature4()\n",
        "c1.feature1()\n",
        "\n"
      ],
      "metadata": {
        "colab": {
          "base_uri": "https://localhost:8080/"
        },
        "id": "nrIXA-XV5Diw",
        "outputId": "6ee50e99-cfcf-4312-e571-ffad4507c2ae"
      },
      "execution_count": null,
      "outputs": [
        {
          "output_type": "stream",
          "name": "stdout",
          "text": [
            "Feature1 is working\n",
            "Feature2 is working\n",
            "Feature3 is working\n",
            "Feature4 is working\n",
            "Feature1 is working\n"
          ]
        }
      ]
    },
    {
      "cell_type": "code",
      "source": [
        "class E:\n",
        "  def __init__(self):\n",
        "    print(\"its init E\")\n",
        "  def feature6(self):\n",
        "    print(\"Its feature 6\")\n",
        "\n",
        "class F:\n",
        "  def __init__(self):\n",
        "    \n",
        "    # super().__init__() \n",
        "\n",
        "    print(\"its init F \")\n",
        "    \n",
        "  def feature7(self):\n",
        "    print(\"Its feature 7\")\n",
        "\n",
        "#method resoultion order(MRO), its starts to inherit from left\n",
        "class G(E,F):\n",
        "  def __init__(self):\n",
        "    super().__init__()\n",
        "    print(\"It's init G\")\n",
        "  \n",
        "  def feature8(self):\n",
        "    print(\"It's feature 8\")\n",
        "  \n",
        "  def feat(self):\n",
        "    super().feature6()\n",
        "  \n",
        "\n",
        "# e1=E()\n",
        "# f1=F()\n",
        "g1=G()\n",
        "g1.feat()\n",
        "\n",
        "# f1.__init__()\n",
        "\n",
        "  "
      ],
      "metadata": {
        "colab": {
          "base_uri": "https://localhost:8080/"
        },
        "id": "5XlsDQxqz5Xb",
        "outputId": "3932a04e-e1a9-45ef-d706-b9ab0cebeb47"
      },
      "execution_count": null,
      "outputs": [
        {
          "output_type": "stream",
          "name": "stdout",
          "text": [
            "its init E\n",
            "It's init G\n",
            "Its feature 6\n"
          ]
        }
      ]
    },
    {
      "cell_type": "code",
      "source": [
        "# polymorphism - One thing/object can take multiple form\n",
        "# duck typing\n",
        "\n",
        "class PyCharm:\n",
        "  def execute(self):\n",
        "    print(\"Compilling\")\n",
        "    print(\"Executing\")\n",
        "  \n",
        "class MyEditor:\n",
        "  def execute(self):\n",
        "    print(\"Spell Check\")\n",
        "    print(\"Compilling\")\n",
        "    print(\"Executing\")\n",
        "\n",
        "\n",
        "class Laptop:\n",
        "  def code(self,ide):\n",
        "    ide.execute()\n",
        "\n",
        "# ide=PyCharm()\n",
        "ide =MyEditor() \n",
        "\n",
        "lap1= Laptop()\n",
        "lap1.code(ide)\n",
        "\n",
        "    \n",
        "\n"
      ],
      "metadata": {
        "colab": {
          "base_uri": "https://localhost:8080/"
        },
        "id": "EvF1qCcQ4Te3",
        "outputId": "6d35993d-6ba2-4fda-ea54-0c9658fec39c"
      },
      "execution_count": null,
      "outputs": [
        {
          "output_type": "stream",
          "name": "stdout",
          "text": [
            "Spell Check\n",
            "Compilling\n",
            "Executing\n"
          ]
        }
      ]
    },
    {
      "cell_type": "code",
      "source": [
        "#operator overloading\n",
        "\n",
        "a = \"dp\"\n",
        "b=\"ke\"\n",
        "\n",
        "str.__add__(a,b)"
      ],
      "metadata": {
        "colab": {
          "base_uri": "https://localhost:8080/",
          "height": 36
        },
        "id": "UQGTPRBm-UNX",
        "outputId": "c3ce6097-7c7d-4d89-8c2a-e469c4f52208"
      },
      "execution_count": null,
      "outputs": [
        {
          "output_type": "execute_result",
          "data": {
            "text/plain": [
              "'dpke'"
            ],
            "application/vnd.google.colaboratory.intrinsic+json": {
              "type": "string"
            }
          },
          "metadata": {},
          "execution_count": 45
        }
      ]
    },
    {
      "cell_type": "code",
      "source": [
        "# polymorphism\n",
        "\n",
        "class User(object):\n",
        "  def sign_in(self):\n",
        "    pass\n",
        "  \n",
        "  def attack(self):\n",
        "    print(\"do nothing\")\n",
        "\n",
        "class Wizard(User):\n",
        "  def __init__(self, name, power) -> None:\n",
        "    # super().__init__()\n",
        "    self.name = name\n",
        "    self.power =power\n",
        "  def attack(self):\n",
        "    User.attack(self)\n",
        "    print(f\"attacking with power of {self.power}\")\n",
        "\n",
        "class Archer(User):\n",
        "  def __init__(self, name, num_arrows) -> None:\n",
        "    # super().__init__()\n",
        "    self.name = name\n",
        "    self.num_arrows =num_arrows\n",
        "  def attack(self):\n",
        "    print(f\"atatcking with arrows: arrows left-{self.num_arrows}\")\n",
        "  \n",
        "  wizard1= Wizard(\"Merlin\",60)\n",
        "  archer1= Archer(\"Bohin\", 30)\n",
        "  # print(wizard1.attack())\n",
        "  # print(archer1.attack())\n",
        "\n",
        "  for i in [wizard1,archer1]:\n",
        "    (i.attack())\n"
      ],
      "metadata": {
        "id": "FRyI08fiBjJb",
        "colab": {
          "base_uri": "https://localhost:8080/"
        },
        "outputId": "adfc0b48-30ca-4a4c-ba8a-ae4ea91aba4d"
      },
      "execution_count": null,
      "outputs": [
        {
          "output_type": "stream",
          "name": "stdout",
          "text": [
            "do nothing\n",
            "attacking with power of 60\n",
            "atatcking with arrows: arrows left-30\n"
          ]
        }
      ]
    },
    {
      "cell_type": "code",
      "source": [
        "#inheritance-exercise\n",
        "class Pets():\n",
        "    animals = []\n",
        "    def __init__(self, animals):\n",
        "        self.animals = animals\n",
        "\n",
        "    def walk(self):\n",
        "        for animal in self.animals:\n",
        "            print(animal.walk())\n",
        "\n",
        "class Cat():\n",
        "    is_lazy = True\n",
        "\n",
        "    def __init__(self, name, age):\n",
        "        self.name = name\n",
        "        self.age = age\n",
        "\n",
        "    def walk(self):\n",
        "        return f'{self.name} is just walking around'\n",
        "\n",
        "class Simon(Cat):\n",
        "    def sing(self, sounds):\n",
        "        return f'{sounds}'\n",
        "\n",
        "class Sally(Cat):\n",
        "    def sing(self, sounds):\n",
        "        return f'{sounds}'\n",
        "#1 Add nother Cat\n",
        "class Wally(Cat):\n",
        "    def sing(self, sounds):\n",
        "        return f'{sounds}'\n",
        "#2 Create a list of all of the pets (create 3 cat instances from the above)\n",
        "# my_cats = [Simon(\"A\", 1), Sally(\"B\",2), Wally(\"C\",3)]\n",
        "cat1=Simon(\"A\",1)\n",
        "cat2=Sally(\"B\",2)\n",
        "cat3=Wally(\"C\",3)\n",
        "my_cats = [cat1, cat2, cat3]\n",
        "\n",
        "\n",
        "#3 Instantiate the Pet class with all your cats use variable my_pets\n",
        "my_pets = Pets(my_cats)\n",
        "\n",
        "#4 Output all of the cats walking using the my_pets instance\n",
        "my_pets.walk()"
      ],
      "metadata": {
        "colab": {
          "base_uri": "https://localhost:8080/"
        },
        "id": "2Rn0f2Tm28oC",
        "outputId": "bbeb9b33-c28a-492e-c948-0ed396195205"
      },
      "execution_count": null,
      "outputs": [
        {
          "output_type": "stream",
          "name": "stdout",
          "text": [
            "A is just walking around\n",
            "B is just walking around\n",
            "C is just walking around\n"
          ]
        }
      ]
    },
    {
      "cell_type": "code",
      "source": [
        "#super \n",
        "\n",
        "#super class User\n",
        "class User(object):\n",
        "  def __init__(self,email) -> None:\n",
        "    self.email=email\n",
        "  \n",
        "  def sign_in(self):\n",
        "    print(\"logged in!\")\n",
        "  \n",
        "class Wizard(User):\n",
        "  def __init__(self, name, power,email) -> None:\n",
        "    # User.__init__(self,email)\n",
        "    super().__init__(email)\n",
        "    self.name = name\n",
        "    self.power =power\n",
        "  def attack(self):\n",
        "    User.attack(self)\n",
        "    print(f\"attacking with power of {self.power}\")\n",
        "\n",
        "class Archer(User):\n",
        "  def __init__(self, name, num_arrows) -> None:\n",
        "    # super().__init__()\n",
        "    self.name = name\n",
        "    self.num_arrows =num_arrows\n",
        "  def attack(self):\n",
        "    print(f\"atatcking with arrows: arrows left-{self.num_arrows}\")\n",
        "  \n",
        "wizard1= Wizard(\"Merlin\",60, \"merlin@gmail.com\")\n",
        "wizard1.sign_in()\n",
        "archer1= Archer(\"Maki\", 30)\n",
        "print(wizard1.email)\n",
        "print(wizard1.name, wizard1.power)\n",
        "\n",
        "#python introspection\n",
        "print(dir(wizard1))\n",
        "print(dir(archer1))\n"
      ],
      "metadata": {
        "colab": {
          "base_uri": "https://localhost:8080/"
        },
        "id": "s_a81c0B6vwu",
        "outputId": "e2c4faf6-1062-43d6-a0d5-593c16dc6bdd"
      },
      "execution_count": null,
      "outputs": [
        {
          "output_type": "stream",
          "name": "stdout",
          "text": [
            "logged in!\n",
            "merlin@gmail.com\n",
            "Merlin 60\n",
            "['__class__', '__delattr__', '__dict__', '__dir__', '__doc__', '__eq__', '__format__', '__ge__', '__getattribute__', '__gt__', '__hash__', '__init__', '__init_subclass__', '__le__', '__lt__', '__module__', '__ne__', '__new__', '__reduce__', '__reduce_ex__', '__repr__', '__setattr__', '__sizeof__', '__str__', '__subclasshook__', '__weakref__', 'attack', 'email', 'name', 'power', 'sign_in']\n",
            "['__class__', '__delattr__', '__dict__', '__dir__', '__doc__', '__eq__', '__format__', '__ge__', '__getattribute__', '__gt__', '__hash__', '__init__', '__init_subclass__', '__le__', '__lt__', '__module__', '__ne__', '__new__', '__reduce__', '__reduce_ex__', '__repr__', '__setattr__', '__sizeof__', '__str__', '__subclasshook__', '__weakref__', 'attack', 'name', 'num_arrows', 'sign_in']\n"
          ]
        }
      ]
    },
    {
      "cell_type": "code",
      "source": [
        "from IPython.core.excolors import ColorScheme\n",
        "#dunder method\n",
        "\n",
        "class Toy():\n",
        "  def __init__(self, color, age) -> None:\n",
        "    self.color =color\n",
        "    self.age= age\n",
        "    self.my_dict ={\"name\": \"yoyo\",\n",
        "                   \"has_pets\":False}\n",
        "  \n",
        "  #modifying dunder method\n",
        "  def __str__(self):\n",
        "    return self.color\n",
        "  \n",
        "  def __len__(self):\n",
        "    return 5\n",
        "  \n",
        "  def __del__(self):\n",
        "    print(\"deleted!\")\n",
        "  \n",
        "  def __getitem__(self,i):\n",
        "    return self.my_dict[i]\n",
        "\n",
        "action_figure =Toy(\"Red\", .5)\n",
        "print(action_figure.__str__())\n",
        "print(str(action_figure))\n",
        "print(action_figure.__len__())\n",
        "action_figure.__del__()\n",
        "print(action_figure.__getitem__(\"name\"))\n",
        "print(action_figure.__getitem__(\"has_pets\"))\n",
        "print(action_figure[\"name\"])\n"
      ],
      "metadata": {
        "colab": {
          "base_uri": "https://localhost:8080/"
        },
        "id": "s0B8XyT1_OBe",
        "outputId": "76d4ed22-d439-405c-e969-06f749f3fe25"
      },
      "execution_count": null,
      "outputs": [
        {
          "output_type": "stream",
          "name": "stdout",
          "text": [
            "Red\n",
            "Red\n",
            "5\n",
            "deleted!\n",
            "yoyo\n",
            "False\n",
            "yoyo\n"
          ]
        }
      ]
    },
    {
      "cell_type": "code",
      "source": [
        "#extending list\n",
        "class Superlist(list):\n",
        "  def __len__(self):\n",
        "    return 100\n",
        "\n",
        "super_list_1= Superlist()\n",
        "super_list_1.append(4)\n",
        "print(super_list_1)\n",
        "super_list_1[0]\n",
        "super_list_1.__len__()"
      ],
      "metadata": {
        "colab": {
          "base_uri": "https://localhost:8080/"
        },
        "id": "4nGuxj2KG9_q",
        "outputId": "70ccdbad-94c7-4eb9-e108-e62eeb50eed3"
      },
      "execution_count": null,
      "outputs": [
        {
          "output_type": "stream",
          "name": "stdout",
          "text": [
            "[4]\n"
          ]
        },
        {
          "output_type": "execute_result",
          "data": {
            "text/plain": [
              "100"
            ]
          },
          "metadata": {},
          "execution_count": 77
        }
      ]
    },
    {
      "cell_type": "code",
      "source": [
        "#multiple inheritance\n",
        "class User(object):\n",
        "  \n",
        "  def sign_in(self):\n",
        "    print(\"logged in!\")\n",
        "  \n",
        "class Wizard(User):\n",
        "  def __init__(self, name, power) -> None:\n",
        "    # User.__init__(self,email)\n",
        "    # super().__init__(email)\n",
        "    self.name = name\n",
        "    self.power =power\n",
        "  def attack(self):\n",
        "    # User.attack(self)\n",
        "    print(f\"attacking with power of {self.power}\")\n",
        "\n",
        "class Archer(User):\n",
        "  def __init__(self, name, num_arrows) -> None:\n",
        "    # super().__init__()\n",
        "    self.name = name\n",
        "    self.num_arrows =num_arrows\n",
        "  def attacks(self):\n",
        "    print(f\"atatcking with arrows: arrows left-{self.num_arrows}\")\n",
        "  \n",
        "class Mo(Wizard, Archer):\n",
        "  def __init__(self, name, power, num_arrows):\n",
        "    # super().__init__(name, power, email)\n",
        "    Wizard.__init__(self, name, power)\n",
        "    Archer.__init__(self,name, num_arrows)\n",
        "  \n",
        "\n",
        "m1= Mo(\"ami\", 303, 3)\n",
        "print(m1.sign_in())\n",
        "print(m1.power)\n",
        "print(m1.attack())\n",
        "print(m1.attacks())"
      ],
      "metadata": {
        "colab": {
          "base_uri": "https://localhost:8080/"
        },
        "id": "RoW6cEPDQrCy",
        "outputId": "f570dafb-30b5-417d-c40d-ba017f4c5e36"
      },
      "execution_count": null,
      "outputs": [
        {
          "output_type": "stream",
          "name": "stdout",
          "text": [
            "logged in!\n",
            "None\n",
            "303\n",
            "attacking with power of 303\n",
            "None\n",
            "atatcking with arrows: arrows left-3\n",
            "None\n"
          ]
        }
      ]
    },
    {
      "cell_type": "code",
      "source": [],
      "metadata": {
        "id": "1nVn5vDoWjLq"
      },
      "execution_count": null,
      "outputs": []
    }
  ]
}