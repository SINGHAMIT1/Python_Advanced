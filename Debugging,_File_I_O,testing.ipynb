{
  "nbformat": 4,
  "nbformat_minor": 0,
  "metadata": {
    "colab": {
      "provenance": [],
      "authorship_tag": "ABX9TyPoHpXGKlKEOfumog8eAD4k",
      "include_colab_link": true
    },
    "kernelspec": {
      "name": "python3",
      "display_name": "Python 3"
    },
    "language_info": {
      "name": "python"
    }
  },
  "cells": [
    {
      "cell_type": "markdown",
      "metadata": {
        "id": "view-in-github",
        "colab_type": "text"
      },
      "source": [
        "<a href=\"https://colab.research.google.com/github/SINGHAMIT1/Python_Advanced/blob/main/Debugging%2C_File_I_O%2Ctesting.ipynb\" target=\"_parent\"><img src=\"https://colab.research.google.com/assets/colab-badge.svg\" alt=\"Open In Colab\"/></a>"
      ]
    },
    {
      "cell_type": "code",
      "execution_count": null,
      "metadata": {
        "id": "R-kcXNimcKGS"
      },
      "outputs": [],
      "source": [
        "import pdb\n"
      ]
    },
    {
      "cell_type": "code",
      "source": [
        "def add(num1, num2):\n",
        "  # pdb.set_trace()\n",
        "  return num1 + num2\n",
        "\n",
        "add(4,5)"
      ],
      "metadata": {
        "colab": {
          "base_uri": "https://localhost:8080/"
        },
        "id": "D1m-6aJLcPqo",
        "outputId": "706539a8-25ec-4f84-a84f-222914b33d21"
      },
      "execution_count": null,
      "outputs": [
        {
          "output_type": "execute_result",
          "data": {
            "text/plain": [
              "9"
            ]
          },
          "metadata": {},
          "execution_count": 12
        }
      ]
    },
    {
      "cell_type": "code",
      "source": [
        "#write mode create a new file or overwrite the existing one\n",
        "#for read and write use mode r+\n",
        "#for append use mode a\n",
        "with open(\"sad.txt\", mode=\"w\") as my_file:\n",
        "  text=my_file.write(\":(\")\n",
        "  print(text)"
      ],
      "metadata": {
        "id": "5BpDPyRMcbGh",
        "colab": {
          "base_uri": "https://localhost:8080/"
        },
        "outputId": "042b1b65-03ad-41d3-9088-fab0b8d52898"
      },
      "execution_count": null,
      "outputs": [
        {
          "output_type": "stream",
          "name": "stdout",
          "text": [
            "2\n"
          ]
        }
      ]
    },
    {
      "cell_type": "code",
      "source": [
        "!ls"
      ],
      "metadata": {
        "colab": {
          "base_uri": "https://localhost:8080/"
        },
        "id": "z1aT5qMqemQM",
        "outputId": "a17c95a4-08d4-48d2-fcc2-277cfedcb271"
      },
      "execution_count": null,
      "outputs": [
        {
          "output_type": "stream",
          "name": "stdout",
          "text": [
            "sad.txt  sample_data\n"
          ]
        }
      ]
    },
    {
      "cell_type": "code",
      "source": [
        "!pwd #present working directory"
      ],
      "metadata": {
        "colab": {
          "base_uri": "https://localhost:8080/"
        },
        "id": "udP4locNe1lX",
        "outputId": "e4c7497d-97c2-4872-e2e6-0c5cf20f6229"
      },
      "execution_count": null,
      "outputs": [
        {
          "output_type": "stream",
          "name": "stdout",
          "text": [
            "/content\n"
          ]
        }
      ]
    },
    {
      "cell_type": "code",
      "source": [
        "!mkdir app"
      ],
      "metadata": {
        "colab": {
          "base_uri": "https://localhost:8080/"
        },
        "id": "hn7QGxW4faYu",
        "outputId": "863c2822-9edf-45de-abad-be22deb2ecb2"
      },
      "execution_count": null,
      "outputs": [
        {
          "output_type": "stream",
          "name": "stdout",
          "text": [
            "mkdir: cannot create directory ‘app’: File exists\n"
          ]
        }
      ]
    },
    {
      "cell_type": "code",
      "source": [
        "!pwd"
      ],
      "metadata": {
        "colab": {
          "base_uri": "https://localhost:8080/"
        },
        "id": "tLUK5W1afwXe",
        "outputId": "b7b9eb04-2f84-4507-d14a-e35a239f5ee2"
      },
      "execution_count": null,
      "outputs": [
        {
          "output_type": "stream",
          "name": "stdout",
          "text": [
            "/content\n"
          ]
        }
      ]
    },
    {
      "cell_type": "code",
      "source": [
        "!ls"
      ],
      "metadata": {
        "colab": {
          "base_uri": "https://localhost:8080/"
        },
        "id": "cKsesh7VgTWY",
        "outputId": "9265a67e-c726-4a22-9e1b-b306cacb39e8"
      },
      "execution_count": null,
      "outputs": [
        {
          "output_type": "stream",
          "name": "stdout",
          "text": [
            "app  sample_data\n"
          ]
        }
      ]
    },
    {
      "cell_type": "code",
      "source": [
        "#changin the file path by moving the sad.txt to app folder \n",
        "with open(\"/content/app/sad.txt\", mode=\"r\") as my_file:\n",
        "  print(my_file.read())\n",
        "  "
      ],
      "metadata": {
        "colab": {
          "base_uri": "https://localhost:8080/"
        },
        "id": "larAHySyf6YY",
        "outputId": "4b86e10c-4610-4c22-a11a-b938dbe1495c"
      },
      "execution_count": null,
      "outputs": [
        {
          "output_type": "stream",
          "name": "stdout",
          "text": [
            ":(\n"
          ]
        }
      ]
    },
    {
      "cell_type": "code",
      "source": [
        "!pwd"
      ],
      "metadata": {
        "colab": {
          "base_uri": "https://localhost:8080/"
        },
        "id": "Os3SDSGqgJl4",
        "outputId": "deceab6c-5bc5-4ccb-f180-9452282d6e15"
      },
      "execution_count": null,
      "outputs": [
        {
          "output_type": "stream",
          "name": "stdout",
          "text": [
            "/content\n"
          ]
        }
      ]
    },
    {
      "cell_type": "code",
      "source": [
        "# ./ means from the current folder\n",
        "with open(\"./app/sad.txt\", mode=\"r\") as my_file:\n",
        "  print(my_file.read())\n",
        "\n",
        "# ../ means back a folder\n",
        "\n",
        "#pathlib library take care of the file path system to run in windows, unix or linux machine\n"
      ],
      "metadata": {
        "colab": {
          "base_uri": "https://localhost:8080/"
        },
        "id": "GtB85KAcg-lh",
        "outputId": "7259f8f5-df72-4a13-d095-3dd146e9d4f2"
      },
      "execution_count": null,
      "outputs": [
        {
          "output_type": "stream",
          "name": "stdout",
          "text": [
            ":(\n"
          ]
        }
      ]
    },
    {
      "cell_type": "code",
      "source": [
        "try:\n",
        "  with open(\"/app/sad.txt\", mode=\"r\") as my_file:\n",
        "    print(my_file.read())\n",
        "except FileNotFoundError as err:\n",
        "  print(\"File doesn't found error!\")\n",
        "  # raise err\n",
        "except IOError as err:\n",
        "  print(\"IO error is found!\")\n",
        "  raise err"
      ],
      "metadata": {
        "colab": {
          "base_uri": "https://localhost:8080/"
        },
        "id": "aXUrwGv9haQG",
        "outputId": "1a5ccfbe-bdaf-4515-b2d1-b7c1051b9ec9"
      },
      "execution_count": null,
      "outputs": [
        {
          "output_type": "stream",
          "name": "stdout",
          "text": [
            "File doesn't found error!\n"
          ]
        }
      ]
    },
    {
      "cell_type": "code",
      "source": [
        "!ls\n"
      ],
      "metadata": {
        "colab": {
          "base_uri": "https://localhost:8080/"
        },
        "id": "eYE5OwOAizjS",
        "outputId": "77a8c152-c2a6-40b3-b5e4-55967407491e"
      },
      "execution_count": null,
      "outputs": [
        {
          "output_type": "stream",
          "name": "stdout",
          "text": [
            "app  sample_data  text.txt\n"
          ]
        }
      ]
    },
    {
      "cell_type": "markdown",
      "source": [
        "#A translate project!"
      ],
      "metadata": {
        "id": "sgnZuU0voUnt"
      }
    },
    {
      "cell_type": "code",
      "source": [
        "try:\n",
        "  with open(\"./text.txt\", mode=\"r\") as my_file:\n",
        "    print(my_file.read())\n",
        "except FileNotFoundError as e:\n",
        "  print(\"kindly check your file path!\")"
      ],
      "metadata": {
        "colab": {
          "base_uri": "https://localhost:8080/"
        },
        "id": "_EPvqPU8njlw",
        "outputId": "c110894b-cf59-47ac-80e8-f5221b5b0190"
      },
      "execution_count": null,
      "outputs": [
        {
          "output_type": "stream",
          "name": "stdout",
          "text": [
            "My name is Amit Singha\n"
          ]
        }
      ]
    },
    {
      "cell_type": "code",
      "source": [
        "!pip3 install translate"
      ],
      "metadata": {
        "colab": {
          "base_uri": "https://localhost:8080/"
        },
        "id": "zrtbYkzQn1gl",
        "outputId": "968a5436-4461-4488-d089-51488dd3a48b"
      },
      "execution_count": null,
      "outputs": [
        {
          "output_type": "stream",
          "name": "stdout",
          "text": [
            "Looking in indexes: https://pypi.org/simple, https://us-python.pkg.dev/colab-wheels/public/simple/\n",
            "Collecting translate\n",
            "  Downloading translate-3.6.1-py2.py3-none-any.whl (12 kB)\n",
            "Requirement already satisfied: click in /usr/local/lib/python3.9/dist-packages (from translate) (8.1.3)\n",
            "Collecting libretranslatepy==2.1.1\n",
            "  Downloading libretranslatepy-2.1.1-py3-none-any.whl (3.2 kB)\n",
            "Requirement already satisfied: requests in /usr/local/lib/python3.9/dist-packages (from translate) (2.27.1)\n",
            "Requirement already satisfied: lxml in /usr/local/lib/python3.9/dist-packages (from translate) (4.9.2)\n",
            "Requirement already satisfied: charset-normalizer~=2.0.0 in /usr/local/lib/python3.9/dist-packages (from requests->translate) (2.0.12)\n",
            "Requirement already satisfied: idna<4,>=2.5 in /usr/local/lib/python3.9/dist-packages (from requests->translate) (3.4)\n",
            "Requirement already satisfied: certifi>=2017.4.17 in /usr/local/lib/python3.9/dist-packages (from requests->translate) (2022.12.7)\n",
            "Requirement already satisfied: urllib3<1.27,>=1.21.1 in /usr/local/lib/python3.9/dist-packages (from requests->translate) (1.26.15)\n",
            "Installing collected packages: libretranslatepy, translate\n",
            "Successfully installed libretranslatepy-2.1.1 translate-3.6.1\n"
          ]
        }
      ]
    },
    {
      "cell_type": "code",
      "source": [
        "from translate import Translator\n",
        "translator= Translator(to_lang=\"pt\")\n",
        "try:\n",
        "  with open(\"./text.txt\", mode=\"r\") as my_file:\n",
        "    txt=my_file.read()\n",
        "    translation = translator.translate(txt)\n",
        "    # print(translation)\n",
        "    with open(\"./test-pt.txt\", mode=\"w\") as my_file_2:\n",
        "      my_file_2.write(translation)\n",
        "except FileNotFoundError as e:\n",
        "  print(\"Please check your file path!\")\n"
      ],
      "metadata": {
        "id": "OQO1E7tRoR6c"
      },
      "execution_count": null,
      "outputs": []
    },
    {
      "cell_type": "markdown",
      "source": [
        "#Regular Expression"
      ],
      "metadata": {
        "id": "PS43HISmvFNv"
      }
    },
    {
      "cell_type": "code",
      "source": [
        "# regular expression is the best way to ensure validation\n",
        "\n",
        "import re\n",
        "string =\"search inside of this text please!\"\n",
        "\n",
        "print(\"search\" in string)"
      ],
      "metadata": {
        "colab": {
          "base_uri": "https://localhost:8080/"
        },
        "id": "f7saVSlUq8Y1",
        "outputId": "67e29836-0ab8-480d-fd83-bf939113057e"
      },
      "execution_count": null,
      "outputs": [
        {
          "output_type": "stream",
          "name": "stdout",
          "text": [
            "True\n"
          ]
        }
      ]
    },
    {
      "cell_type": "code",
      "source": [
        "import re\n",
        "string =\"search inside of the the text please!\"\n",
        "a= re.search(\"the\", string)\n",
        "print(a)\n",
        "print(a.span())\n",
        "print(a.start())\n",
        "print(a.end())\n",
        "print(a.group()) #the part of the string that was the match\n",
        "\n",
        "pattern =re.compile(\"the\")\n",
        "a=pattern.search(string)\n",
        "b=pattern.findall(string)\n",
        "c=pattern.fullmatch(string)\n",
        "d=pattern.match(string)\n",
        "\n",
        "print(a)\n",
        "print(b)\n",
        "print(c)\n",
        "print(d)"
      ],
      "metadata": {
        "colab": {
          "base_uri": "https://localhost:8080/"
        },
        "id": "C5TDsOkKv8M7",
        "outputId": "faa71eb9-f34e-4fc3-a5b0-2704612cc9bb"
      },
      "execution_count": null,
      "outputs": [
        {
          "output_type": "stream",
          "name": "stdout",
          "text": [
            "<re.Match object; span=(17, 20), match='the'>\n",
            "(17, 20)\n",
            "17\n",
            "20\n",
            "the\n",
            "<re.Match object; span=(17, 20), match='the'>\n",
            "['the', 'the']\n",
            "None\n",
            "None\n"
          ]
        }
      ]
    },
    {
      "cell_type": "code",
      "source": [],
      "metadata": {
        "id": "fNuei1EyyMOI"
      },
      "execution_count": null,
      "outputs": []
    }
  ]
}