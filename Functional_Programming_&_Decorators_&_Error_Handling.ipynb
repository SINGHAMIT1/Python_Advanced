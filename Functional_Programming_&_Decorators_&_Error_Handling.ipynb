{
  "nbformat": 4,
  "nbformat_minor": 0,
  "metadata": {
    "colab": {
      "provenance": [],
      "authorship_tag": "ABX9TyMv5kFHgiyj9l9zhoaOjFYW",
      "include_colab_link": true
    },
    "kernelspec": {
      "name": "python3",
      "display_name": "Python 3"
    },
    "language_info": {
      "name": "python"
    }
  },
  "cells": [
    {
      "cell_type": "markdown",
      "metadata": {
        "id": "view-in-github",
        "colab_type": "text"
      },
      "source": [
        "<a href=\"https://colab.research.google.com/github/SINGHAMIT1/Python_Advanced/blob/main/Functional_Programming_%26_Decorators_%26_Error_Handling.ipynb\" target=\"_parent\"><img src=\"https://colab.research.google.com/assets/colab-badge.svg\" alt=\"Open In Colab\"/></a>"
      ]
    },
    {
      "cell_type": "code",
      "execution_count": null,
      "metadata": {
        "colab": {
          "base_uri": "https://localhost:8080/"
        },
        "id": "nIXM6QPYQQlv",
        "outputId": "03ff92f3-4195-4201-d3a9-905cd6c5fbf4"
      },
      "outputs": [
        {
          "output_type": "stream",
          "name": "stdout",
          "text": [
            "[2, 4, 6]\n"
          ]
        }
      ],
      "source": [
        "#pure function\n",
        "#functional programming: sperating attributes/data and methods/functions\n",
        "\n",
        "def multiply_by_2(li):\n",
        "  new_list=[]\n",
        "  for i in li:\n",
        "    new_list.append(i*2)\n",
        "  return new_list\n",
        "print(multiply_by_2([1,2,3]))"
      ]
    },
    {
      "cell_type": "code",
      "source": [
        "#map() fucntion\n",
        "#function doesnt impact the outside world\n",
        "\n",
        "def multiby2(item):\n",
        "  return item*2\n",
        "print(list(map(multiby2,[1,2,3])))"
      ],
      "metadata": {
        "colab": {
          "base_uri": "https://localhost:8080/"
        },
        "id": "l6wVOllfvAvz",
        "outputId": "98f3594d-ffe6-410b-82ff-00a80e30bbb2"
      },
      "execution_count": null,
      "outputs": [
        {
          "output_type": "stream",
          "name": "stdout",
          "text": [
            "[2, 4, 6]\n"
          ]
        }
      ]
    },
    {
      "cell_type": "code",
      "source": [
        "my_list=[1,2,3]\n",
        "def mb2(i):\n",
        "  return i*2\n",
        "\n",
        "def only_odd(i):\n",
        "  return i%2 !=0\n",
        "\n",
        "print(list(filter(only_odd,my_list)))\n",
        "#map()\n",
        "print(list(map(mb2, my_list)))\n",
        "my_list"
      ],
      "metadata": {
        "colab": {
          "base_uri": "https://localhost:8080/"
        },
        "id": "M91nPTyGxCcE",
        "outputId": "718dd4ad-6ed3-4046-b0cf-04ad3a7e42a7"
      },
      "execution_count": null,
      "outputs": [
        {
          "output_type": "stream",
          "name": "stdout",
          "text": [
            "[1, 3]\n",
            "[2, 4, 6]\n"
          ]
        },
        {
          "output_type": "execute_result",
          "data": {
            "text/plain": [
              "[1, 2, 3]"
            ]
          },
          "metadata": {},
          "execution_count": 14
        }
      ]
    },
    {
      "cell_type": "code",
      "source": [
        "#zip()\n",
        "\n",
        "my_list=[1,2,3]\n",
        "your_list=[5,10,15]\n",
        "their_list=[10,3,4]\n",
        "\n",
        "print(list(zip(my_list, your_list, their_list)))"
      ],
      "metadata": {
        "colab": {
          "base_uri": "https://localhost:8080/"
        },
        "id": "0lSrQc9pxrX7",
        "outputId": "44e3faf1-f8de-4392-98ad-f6bc764abf21"
      },
      "execution_count": null,
      "outputs": [
        {
          "output_type": "stream",
          "name": "stdout",
          "text": [
            "[(1, 5, 10), (2, 10, 3), (3, 15, 4)]\n"
          ]
        }
      ]
    },
    {
      "cell_type": "code",
      "source": [
        "# reduce ()\n",
        "\n",
        "from functools import reduce\n",
        "\n",
        "my_list=[1,2,3]\n",
        "\n",
        "def accumulator(acc,item):\n",
        "  print(acc,item)\n",
        "  return acc+item\n",
        "\n",
        "print(reduce(accumulator,my_list,10))"
      ],
      "metadata": {
        "colab": {
          "base_uri": "https://localhost:8080/"
        },
        "id": "uLOgoPq6z3eX",
        "outputId": "5243e6d8-7133-408d-d130-088bc3295809"
      },
      "execution_count": null,
      "outputs": [
        {
          "output_type": "stream",
          "name": "stdout",
          "text": [
            "10 1\n",
            "11 2\n",
            "13 3\n",
            "16\n"
          ]
        }
      ]
    },
    {
      "cell_type": "code",
      "source": [
        "#lambda function\n",
        "#one time annonymous function which we don't need to run more than once\n",
        "#clean but not readable\n",
        "\n",
        "my_list=[1,2,3]\n",
        "\n",
        "print(list(map(lambda item: item*2, my_list)))\n",
        "print(list(filter(lambda item: item%2 !=0, my_list)))\n",
        "print(reduce(lambda acc, item: acc+item, my_list ))\n",
        "my_list"
      ],
      "metadata": {
        "colab": {
          "base_uri": "https://localhost:8080/"
        },
        "id": "cjWG490D2VfA",
        "outputId": "52723525-d0b3-493c-f495-ded95bb9fff1"
      },
      "execution_count": null,
      "outputs": [
        {
          "output_type": "stream",
          "name": "stdout",
          "text": [
            "[2, 4, 6]\n",
            "[1, 3]\n",
            "6\n"
          ]
        },
        {
          "output_type": "execute_result",
          "data": {
            "text/plain": [
              "[1, 2, 3]"
            ]
          },
          "metadata": {},
          "execution_count": 29
        }
      ]
    },
    {
      "cell_type": "code",
      "source": [
        "#lambda exercise\n",
        "\n",
        "my_list =[5,4,3]\n",
        "#squaring\n",
        "print(list(map(lambda item: item*item, my_list)))\n",
        "\n",
        "#list sorting\n",
        "a=[(0,2),(4,3),(10,-1),(9,9)]\n",
        "a.sort(key=lambda x:x[1])\n",
        "print(a)"
      ],
      "metadata": {
        "colab": {
          "base_uri": "https://localhost:8080/"
        },
        "id": "cPsjKt0YFsCd",
        "outputId": "4a95fd2a-e645-450d-ce15-c174163fef85"
      },
      "execution_count": null,
      "outputs": [
        {
          "output_type": "stream",
          "name": "stdout",
          "text": [
            "[25, 16, 9]\n",
            "[(10, -1), (0, 2), (4, 3), (9, 9)]\n"
          ]
        }
      ]
    },
    {
      "cell_type": "code",
      "source": [
        "my_list =[]\n",
        "\n",
        "for item in \"Hello\":\n",
        "  my_list.append(item)\n",
        "\n",
        "print(my_list)"
      ],
      "metadata": {
        "colab": {
          "base_uri": "https://localhost:8080/"
        },
        "id": "jCs3TJRlHdt5",
        "outputId": "a1907249-0dd9-4a9f-ff02-29a43c692430"
      },
      "execution_count": null,
      "outputs": [
        {
          "output_type": "stream",
          "name": "stdout",
          "text": [
            "['H', 'e', 'l', 'l', 'o']\n"
          ]
        }
      ]
    },
    {
      "cell_type": "code",
      "source": [
        "#list comprehension \n",
        "#quickly creating list in python)\n",
        "#is a very unique feature to python\n",
        "# my_list = [char for char in iterable]\n",
        "\n",
        "my_list =[char for char in \"hello\"]\n",
        "my_list_2= [i*2 for i in range(1,100)]\n",
        "my_list_3 = [i for i in range(1,100) if i%2==0]\n",
        "print(my_list)\n",
        "print(my_list_2)\n",
        "print(my_list_3)"
      ],
      "metadata": {
        "colab": {
          "base_uri": "https://localhost:8080/"
        },
        "id": "5UKB7cqBJ9z1",
        "outputId": "ed2099b2-28aa-4062-ecea-60caa8f0b8f1"
      },
      "execution_count": null,
      "outputs": [
        {
          "output_type": "stream",
          "name": "stdout",
          "text": [
            "['h', 'e', 'l', 'l', 'o']\n",
            "[2, 4, 6, 8, 10, 12, 14, 16, 18, 20, 22, 24, 26, 28, 30, 32, 34, 36, 38, 40, 42, 44, 46, 48, 50, 52, 54, 56, 58, 60, 62, 64, 66, 68, 70, 72, 74, 76, 78, 80, 82, 84, 86, 88, 90, 92, 94, 96, 98, 100, 102, 104, 106, 108, 110, 112, 114, 116, 118, 120, 122, 124, 126, 128, 130, 132, 134, 136, 138, 140, 142, 144, 146, 148, 150, 152, 154, 156, 158, 160, 162, 164, 166, 168, 170, 172, 174, 176, 178, 180, 182, 184, 186, 188, 190, 192, 194, 196, 198]\n",
            "[2, 4, 6, 8, 10, 12, 14, 16, 18, 20, 22, 24, 26, 28, 30, 32, 34, 36, 38, 40, 42, 44, 46, 48, 50, 52, 54, 56, 58, 60, 62, 64, 66, 68, 70, 72, 74, 76, 78, 80, 82, 84, 86, 88, 90, 92, 94, 96, 98]\n"
          ]
        }
      ]
    },
    {
      "cell_type": "code",
      "source": [
        "#set and dictionary comprehensions\n",
        "#set comprehensions\n",
        "my_list= {char for char in \"hello\"}\n",
        "print(my_list)\n",
        "\n",
        "# dictionary comprehensions\n",
        "sample_dict={\n",
        "    \"a\":1,\n",
        "    \"b\":2\n",
        "}\n",
        "# my_dict={key:value*2 for key,value in sample_dict.items()}\n",
        "my_dict={key:value*2 for key,value in sample_dict.items() if value%2==0}\n",
        "\n",
        "print(my_dict)"
      ],
      "metadata": {
        "colab": {
          "base_uri": "https://localhost:8080/"
        },
        "id": "EnWyXTnXKlLD",
        "outputId": "dd655aed-7012-455a-d246-941b53efd796"
      },
      "execution_count": null,
      "outputs": [
        {
          "output_type": "stream",
          "name": "stdout",
          "text": [
            "{'h', 'e', 'o', 'l'}\n",
            "{'b': 4}\n"
          ]
        }
      ]
    },
    {
      "cell_type": "code",
      "source": [
        "def hello(func):\n",
        "  func()\n",
        "\n",
        "def greet():\n",
        "  print (\"still here!\")\n",
        "\n",
        "a=hello(greet)\n",
        "print(a)"
      ],
      "metadata": {
        "id": "90EG9Z92Oqb4",
        "colab": {
          "base_uri": "https://localhost:8080/"
        },
        "outputId": "98a9345e-a1a1-45bb-9169-6df07b87e2fc"
      },
      "execution_count": 2,
      "outputs": [
        {
          "output_type": "stream",
          "name": "stdout",
          "text": [
            "still here!\n",
            "None\n"
          ]
        }
      ]
    },
    {
      "cell_type": "code",
      "source": [
        "# decorator supercharge our function and add extra functionality to it\n",
        "#Higher order function is a fucntion that accepts function as a parameter or return another fucntion\n",
        "#HOF\n",
        "def greet(func):\n",
        "  func()\n",
        "\n",
        "def greet2():\n",
        "  def func():\n",
        "    return 5\n",
        "  return func\n",
        "\n",
        "  #map reduce filters are Higher order function\n",
        "\n"
      ],
      "metadata": {
        "id": "GMa33IAhBEVB"
      },
      "execution_count": 3,
      "outputs": []
    },
    {
      "cell_type": "code",
      "source": [
        "# decorator-supercharges our function\n",
        "# decorator itself is a function that wraps another funtion and return it\n",
        "#we can add anything in the wrap function\n",
        "def my_decorator(func):\n",
        "  def wrap_func():\n",
        "    print(\"****\")\n",
        "    print(\"****\")\n",
        "    func()\n",
        "    print(\"****\")\n",
        "  return wrap_func\n",
        "#superboosted hello function and bye function\n",
        "@my_decorator\n",
        "def hello():\n",
        "  print (\"Hello!\")\n",
        "@my_decorator\n",
        "def bye():\n",
        "  print(\"see ya later!\")\n",
        "\n",
        "#hello()\n",
        "bye()\n",
        " "
      ],
      "metadata": {
        "colab": {
          "base_uri": "https://localhost:8080/"
        },
        "id": "KuFITDk4CFBO",
        "outputId": "f4e2e0c9-9d44-4042-d63f-6deb7c8064b7"
      },
      "execution_count": 9,
      "outputs": [
        {
          "output_type": "stream",
          "name": "stdout",
          "text": [
            "****\n",
            "****\n",
            "see ya later!\n",
            "****\n"
          ]
        }
      ]
    },
    {
      "cell_type": "code",
      "source": [
        "def my_decorator(func):\n",
        "  def wrap_function(x,y):\n",
        "    func(x,y)\n",
        "    print(\"**\")\n",
        "  return wrap_function\n",
        "@my_decorator\n",
        "def hi(gretting, emoji):\n",
        "  print (gretting, emoji)\n",
        "\n",
        "hi(\"Hi\", \":)\")"
      ],
      "metadata": {
        "colab": {
          "base_uri": "https://localhost:8080/"
        },
        "id": "T6SylbZyDwzU",
        "outputId": "e07a1ee2-0c2f-48dd-daaa-0148cbc2abc4"
      },
      "execution_count": 25,
      "outputs": [
        {
          "output_type": "stream",
          "name": "stdout",
          "text": [
            "Hi :)\n",
            "**\n"
          ]
        }
      ]
    },
    {
      "cell_type": "code",
      "source": [
        "#basic structure of decorator\n",
        "#decorator pattern\n",
        "def my_decorator(func):\n",
        "  def wrap_func(*args, **kwargs): #for passing parameters in flexible\n",
        "    func(*args, **kwargs)\n",
        "  return wrap_func\n",
        "\n",
        "@my_decorator\n",
        "def hii(greeting, emoji =\":(\"):\n",
        "  print(greeting, emoji)\n",
        "\n",
        "hii(\"Hi\")"
      ],
      "metadata": {
        "colab": {
          "base_uri": "https://localhost:8080/"
        },
        "id": "SoEm6wMKF9P6",
        "outputId": "1fdc66ba-332d-40d1-b591-efe2358db5d1"
      },
      "execution_count": 35,
      "outputs": [
        {
          "output_type": "stream",
          "name": "stdout",
          "text": [
            "Hi :(\n"
          ]
        }
      ]
    },
    {
      "cell_type": "code",
      "source": [
        "# Decorator\n",
        "# performance evaluation\n",
        "#measure performance of any function by using performance decorator\n",
        "from time import time\n",
        "\n",
        "def performance(fn):\n",
        "  def wrap(*args, **kwargs):\n",
        "    t1=time()\n",
        "    result =fn(*args, **kwargs)\n",
        "    t2=time()\n",
        "    print(f\"time takes to run: {t2-t1} s\")\n",
        "    return result\n",
        "  return wrap\n",
        "\n",
        "@performance\n",
        "def long_time():\n",
        "  for i in range(1000):\n",
        "    i*5\n",
        "long_time()"
      ],
      "metadata": {
        "colab": {
          "base_uri": "https://localhost:8080/"
        },
        "id": "x5ehrfQrIy3I",
        "outputId": "c84efe83-c2ec-460a-aae0-656a8b358b30"
      },
      "execution_count": 43,
      "outputs": [
        {
          "output_type": "stream",
          "name": "stdout",
          "text": [
            "time takes to run: 0.00011229515075683594 s\n"
          ]
        }
      ]
    },
    {
      "cell_type": "code",
      "source": [
        "# Create an @authenticated decorator that only allows the function to run is user1 has 'valid' set to True:\n",
        "user1 = {\n",
        "    'name': 'Sorna',\n",
        "    'valid': False\n",
        "}\n",
        "\n",
        "def authenticated(fn):\n",
        "  def wrapper(*args, **kwargs):\n",
        "    if args[0]['name']==True:\n",
        "        return fn(*args, **kwargs)\n",
        "    else:\n",
        "      print(\"You are not allowed to message!\")\n",
        "  return wrapper\n",
        "\n",
        "\n",
        "@authenticated\n",
        "def message_friends(user):\n",
        "    print('message has been sent')\n",
        "\n",
        "message_friends(user1)"
      ],
      "metadata": {
        "colab": {
          "base_uri": "https://localhost:8080/"
        },
        "id": "FN6fvf31LSnw",
        "outputId": "67c34c83-1ff0-4e5a-8b88-c5ffd51128c0"
      },
      "execution_count": 57,
      "outputs": [
        {
          "output_type": "stream",
          "name": "stdout",
          "text": [
            "You are not allowed to message!\n"
          ]
        }
      ]
    },
    {
      "cell_type": "code",
      "source": [
        "#error handling\n",
        "#means runs the code still if there are any errors\n",
        "#avoid program crashes\n",
        "#giving meaningful errors to the users\n",
        "\n",
        "while True:\n",
        "  try:\n",
        "    age= int(input(\"Please enter your age?\"))\n",
        "    print(age)\n",
        "  except:\n",
        "    print(\"Please enter integer\")\n",
        "  else:\n",
        "    print(\"Thank you!\")\n",
        "    break"
      ],
      "metadata": {
        "colab": {
          "base_uri": "https://localhost:8080/"
        },
        "id": "4Ml5BoEWN-AQ",
        "outputId": "d627d566-d4dd-4971-d1cf-dda15ee9c5b1"
      },
      "execution_count": 68,
      "outputs": [
        {
          "output_type": "stream",
          "name": "stdout",
          "text": [
            "Please enter your age?we\n",
            "Please enter integer\n",
            "Please enter your age?www\n",
            "Please enter integer\n",
            "Please enter your age?ww22\n",
            "Please enter integer\n",
            "Please enter your age?26\n",
            "26\n",
            "Thank you!\n"
          ]
        }
      ]
    },
    {
      "cell_type": "code",
      "source": [
        "def sum(num1, num2):\n",
        "  try:\n",
        "    return num1+num2\n",
        "  except TypeError as err:\n",
        "    # print(\"Please enter number!\" + err)\n",
        "    print(f\"Please enter numbers {err}\")\n",
        "\n",
        "print(sum(1,\"5\"))\n",
        "\n",
        "#handling multiple errors\n",
        "# except (TypeError, ZeroDivisionError) as err:"
      ],
      "metadata": {
        "colab": {
          "base_uri": "https://localhost:8080/"
        },
        "id": "F7BDrFNIVFO-",
        "outputId": "dffc4a80-b30f-48e7-8b6c-6a0ad2165351"
      },
      "execution_count": 85,
      "outputs": [
        {
          "output_type": "stream",
          "name": "stdout",
          "text": [
            "Please enter numbers unsupported operand type(s) for +: 'int' and 'str'\n",
            "None\n"
          ]
        }
      ]
    },
    {
      "cell_type": "code",
      "source": [],
      "metadata": {
        "id": "z2RM_TiMXVER"
      },
      "execution_count": null,
      "outputs": []
    }
  ]
}